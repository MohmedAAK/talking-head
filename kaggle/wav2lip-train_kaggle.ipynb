{
 "cells": [
  {
   "cell_type": "code",
   "execution_count": 1,
   "id": "48ae9980",
   "metadata": {
    "execution": {
     "iopub.execute_input": "2023-11-02T09:58:53.826577Z",
     "iopub.status.busy": "2023-11-02T09:58:53.824953Z",
     "iopub.status.idle": "2023-11-02T09:58:53.830081Z",
     "shell.execute_reply": "2023-11-02T09:58:53.829110Z"
    },
    "papermill": {
     "duration": 0.054963,
     "end_time": "2023-11-02T09:58:53.830920",
     "exception": false,
     "start_time": "2023-11-02T09:58:53.775957",
     "status": "completed"
    },
    "tags": []
   },
   "outputs": [],
   "source": [
    "# !pip install -r requirements.txt"
   ]
  },
  {
   "cell_type": "code",
   "execution_count": 2,
   "id": "995b0cd4",
   "metadata": {
    "execution": {
     "iopub.execute_input": "2023-11-02T09:58:53.906887Z",
     "iopub.status.busy": "2023-11-02T09:58:53.906018Z",
     "iopub.status.idle": "2023-11-02T09:58:53.911764Z",
     "shell.execute_reply": "2023-11-02T09:58:53.910957Z"
    },
    "papermill": {
     "duration": 0.047459,
     "end_time": "2023-11-02T09:58:53.911940",
     "exception": false,
     "start_time": "2023-11-02T09:58:53.864481",
     "status": "completed"
    },
    "tags": []
   },
   "outputs": [],
   "source": [
    "# !python preprocess.py --data_root \"./mvlrs_v1/main\" --preprocessed_root \"./lrs2_preprocessed\" "
   ]
  },
  {
   "cell_type": "code",
   "execution_count": 3,
   "id": "b17918ec",
   "metadata": {
    "execution": {
     "iopub.execute_input": "2023-11-02T09:58:54.079226Z",
     "iopub.status.busy": "2023-11-02T09:58:54.078452Z",
     "iopub.status.idle": "2023-11-02T09:58:54.085762Z",
     "shell.execute_reply": "2023-11-02T09:58:54.085154Z",
     "shell.execute_reply.started": "2021-07-30T15:10:55.205557Z"
    },
    "papermill": {
     "duration": 0.137186,
     "end_time": "2023-11-02T09:58:54.085935",
     "exception": false,
     "start_time": "2023-11-02T09:58:53.948749",
     "status": "completed"
    },
    "tags": []
   },
   "outputs": [
    {
     "name": "stdout",
     "output_type": "stream",
     "text": [
      "/kaggle/input/wave2lip/wav2lip_homework\n"
     ]
    }
   ],
   "source": [
    "%cd ../input/wave2lip/wav2lip_homework"
   ]
  },
  {
   "cell_type": "code",
   "execution_count": 4,
   "id": "f06eeec6",
   "metadata": {
    "execution": {
     "iopub.execute_input": "2023-11-02T09:58:54.169505Z",
     "iopub.status.busy": "2023-11-02T09:58:54.168892Z",
     "iopub.status.idle": "2023-11-02T09:58:55.555484Z",
     "shell.execute_reply": "2023-11-02T09:58:55.554824Z",
     "shell.execute_reply.started": "2021-07-30T15:10:59.610288Z"
    },
    "papermill": {
     "duration": 1.427886,
     "end_time": "2023-11-02T09:58:55.555646",
     "exception": false,
     "start_time": "2023-11-02T09:58:54.127760",
     "status": "completed"
    },
    "tags": []
   },
   "outputs": [],
   "source": [
    "import torch\n",
    "from torch import nn\n",
    "from torch.nn import functional as F\n",
    "\n",
    "class Conv2d(nn.Module):\n",
    "    def __init__(self, cin, cout, kernel_size, stride, padding, residual=False, *args, **kwargs):\n",
    "        super().__init__(*args, **kwargs)\n",
    "        self.conv_block = nn.Sequential(\n",
    "                            nn.Conv2d(cin, cout, kernel_size, stride, padding),\n",
    "                            nn.BatchNorm2d(cout)\n",
    "                            )\n",
    "        self.act = nn.ReLU()\n",
    "        self.residual = residual\n",
    "\n",
    "    def forward(self, x):\n",
    "        out = self.conv_block(x)\n",
    "        if self.residual:\n",
    "            out += x\n",
    "        return self.act(out)"
   ]
  },
  {
   "cell_type": "code",
   "execution_count": 5,
   "id": "2938fdac",
   "metadata": {
    "execution": {
     "iopub.execute_input": "2023-11-02T09:58:55.638709Z",
     "iopub.status.busy": "2023-11-02T09:58:55.634845Z",
     "iopub.status.idle": "2023-11-02T09:58:55.641270Z",
     "shell.execute_reply": "2023-11-02T09:58:55.640675Z",
     "shell.execute_reply.started": "2021-07-30T15:11:04.53338Z"
    },
    "papermill": {
     "duration": 0.055361,
     "end_time": "2023-11-02T09:58:55.641393",
     "exception": false,
     "start_time": "2023-11-02T09:58:55.586032",
     "status": "completed"
    },
    "tags": []
   },
   "outputs": [],
   "source": [
    "import torch\n",
    "from torch import nn\n",
    "from torch.nn import functional as F\n",
    "\n",
    "class SyncNet_color(nn.Module):\n",
    "    def __init__(self):\n",
    "        super(SyncNet_color, self).__init__()\n",
    "        \n",
    "\n",
    "        self.face_encoder = nn.Sequential(\n",
    "            Conv2d(15, 32, kernel_size=(7, 7), stride=1, padding=3),\n",
    "\n",
    "            Conv2d(32, 64, kernel_size=5, stride=(1, 2), padding=1),\n",
    "            Conv2d(64, 64, kernel_size=3, stride=1, padding=1, residual=True),\n",
    "            Conv2d(64, 64, kernel_size=3, stride=1, padding=1, residual=True),\n",
    "\n",
    "            Conv2d(64, 128, kernel_size=3, stride=2, padding=1),\n",
    "            Conv2d(128, 128, kernel_size=3, stride=1, padding=1, residual=True),\n",
    "            Conv2d(128, 128, kernel_size=3, stride=1, padding=1, residual=True),\n",
    "            Conv2d(128, 128, kernel_size=3, stride=1, padding=1, residual=True),\n",
    "\n",
    "            Conv2d(128, 256, kernel_size=3, stride=2, padding=1),\n",
    "            Conv2d(256, 256, kernel_size=3, stride=1, padding=1, residual=True),\n",
    "            Conv2d(256, 256, kernel_size=3, stride=1, padding=1, residual=True),\n",
    "\n",
    "            Conv2d(256, 512, kernel_size=3, stride=2, padding=1),\n",
    "            Conv2d(512, 512, kernel_size=3, stride=1, padding=1, residual=True),\n",
    "            Conv2d(512, 512, kernel_size=3, stride=1, padding=1, residual=True),\n",
    "\n",
    "            Conv2d(512, 512, kernel_size=3, stride=2, padding=1),\n",
    "            Conv2d(512, 512, kernel_size=3, stride=1, padding=0),\n",
    "            Conv2d(512, 512, kernel_size=1, stride=1, padding=0),)\n",
    "\n",
    "        self.audio_encoder = nn.Sequential(\n",
    "            Conv2d(1, 32, kernel_size=3, stride=1, padding=1),\n",
    "            Conv2d(32, 32, kernel_size=3, stride=1, padding=1, residual=True),\n",
    "            Conv2d(32, 32, kernel_size=3, stride=1, padding=1, residual=True),\n",
    "\n",
    "            Conv2d(32, 64, kernel_size=3, stride=(3, 1), padding=1),\n",
    "            Conv2d(64, 64, kernel_size=3, stride=1, padding=1, residual=True),\n",
    "            Conv2d(64, 64, kernel_size=3, stride=1, padding=1, residual=True),\n",
    "\n",
    "            Conv2d(64, 128, kernel_size=3, stride=3, padding=1),\n",
    "            Conv2d(128, 128, kernel_size=3, stride=1, padding=1, residual=True),\n",
    "            Conv2d(128, 128, kernel_size=3, stride=1, padding=1, residual=True),\n",
    "\n",
    "            Conv2d(128, 256, kernel_size=3, stride=(3, 2), padding=1),\n",
    "            Conv2d(256, 256, kernel_size=3, stride=1, padding=1, residual=True),\n",
    "            Conv2d(256, 256, kernel_size=3, stride=1, padding=1, residual=True),\n",
    "\n",
    "            Conv2d(256, 512, kernel_size=3, stride=1, padding=0),\n",
    "            Conv2d(512, 512, kernel_size=1, stride=1, padding=0),)\n",
    "\n",
    "    def forward(self, audio_sequences, face_sequences): # audio_sequences := (B, dim, T)\n",
    "        \n",
    "        #########################TODO#######################\n",
    "        # 正向传播\n",
    "        face_embedding = self.face_encoder(face_sequences)\n",
    "        audio_embedding = self.audio_encoder(audio_sequences)\n",
    "\n",
    "        audio_embedding = audio_embedding.view(audio_embedding.size(0), -1)\n",
    "        face_embedding = face_embedding.view(face_embedding.size(0), -1)\n",
    "\n",
    "        audio_embedding = F.normalize(audio_embedding, p=2, dim=1)\n",
    "        face_embedding = F.normalize(face_embedding, p=2, dim=1)\n",
    "\n",
    "\n",
    "        return audio_embedding, face_embedding"
   ]
  },
  {
   "cell_type": "code",
   "execution_count": 6,
   "id": "cc23e5ae",
   "metadata": {
    "execution": {
     "iopub.execute_input": "2023-11-02T09:58:55.707818Z",
     "iopub.status.busy": "2023-11-02T09:58:55.707084Z",
     "iopub.status.idle": "2023-11-02T09:58:57.984519Z",
     "shell.execute_reply": "2023-11-02T09:58:57.983832Z",
     "shell.execute_reply.started": "2021-07-30T15:11:11.303526Z"
    },
    "papermill": {
     "duration": 2.312848,
     "end_time": "2023-11-02T09:58:57.984682",
     "exception": false,
     "start_time": "2023-11-02T09:58:55.671834",
     "status": "completed"
    },
    "tags": []
   },
   "outputs": [],
   "source": [
    "from os.path import dirname, join, basename, isfile\n",
    "from tqdm import tqdm\n",
    "\n",
    "from models import SyncNet_color as SyncNet\n",
    "import audio\n",
    "\n",
    "import torch\n",
    "from torch import nn\n",
    "from torch import optim\n",
    "import torch.backends.cudnn as cudnn\n",
    "from torch.utils import data as data_utils\n",
    "import numpy as np\n",
    "\n",
    "from glob import glob\n",
    "\n",
    "import os, random, cv2, argparse\n",
    "from hparams import hparams, get_image_list"
   ]
  },
  {
   "cell_type": "markdown",
   "id": "aef6dae6",
   "metadata": {
    "papermill": {
     "duration": 0.030498,
     "end_time": "2023-11-02T09:58:58.045988",
     "exception": false,
     "start_time": "2023-11-02T09:58:58.015490",
     "status": "completed"
    },
    "tags": []
   },
   "source": [
    "#### 2.数据集的定义"
   ]
  },
  {
   "cell_type": "code",
   "execution_count": 7,
   "id": "21a341da",
   "metadata": {
    "execution": {
     "iopub.execute_input": "2023-11-02T09:58:58.182158Z",
     "iopub.status.busy": "2023-11-02T09:58:58.181183Z",
     "iopub.status.idle": "2023-11-02T09:58:58.184634Z",
     "shell.execute_reply": "2023-11-02T09:58:58.185230Z",
     "shell.execute_reply.started": "2021-07-30T15:11:14.929415Z"
    },
    "papermill": {
     "duration": 0.108864,
     "end_time": "2023-11-02T09:58:58.185393",
     "exception": false,
     "start_time": "2023-11-02T09:58:58.076529",
     "status": "completed"
    },
    "tags": []
   },
   "outputs": [
    {
     "name": "stdout",
     "output_type": "stream",
     "text": [
      "use_cuda: True\n"
     ]
    }
   ],
   "source": [
    "global_step = 0 \n",
    "global_epoch = 0 \n",
    "use_cuda = torch.cuda.is_available()\n",
    "print('use_cuda: {}'.format(use_cuda))\n",
    "\n",
    "syncnet_T = 5 \n",
    "syncnet_mel_step_size = 16 \n",
    "data_root=\"/kaggle/input/wav2lippreprocessed/lrs2_preprocessed\" "
   ]
  },
  {
   "cell_type": "code",
   "execution_count": 8,
   "id": "6f9c11ff",
   "metadata": {
    "execution": {
     "iopub.execute_input": "2023-11-02T09:58:58.266899Z",
     "iopub.status.busy": "2023-11-02T09:58:58.266020Z",
     "iopub.status.idle": "2023-11-02T09:58:58.268855Z",
     "shell.execute_reply": "2023-11-02T09:58:58.268343Z",
     "shell.execute_reply.started": "2021-07-30T15:18:29.73854Z"
    },
    "papermill": {
     "duration": 0.052787,
     "end_time": "2023-11-02T09:58:58.268993",
     "exception": false,
     "start_time": "2023-11-02T09:58:58.216206",
     "status": "completed"
    },
    "tags": []
   },
   "outputs": [],
   "source": [
    "class Dataset(object):\n",
    "    def __init__(self, split):\n",
    "        self.all_videos = get_image_list(data_root, split)\n",
    "\n",
    "    def get_frame_id(self, frame):\n",
    "        return int(basename(frame).split('.')[0])\n",
    "\n",
    "    def get_window(self, start_frame):\n",
    "        start_id = self.get_frame_id(start_frame)\n",
    "        vidname = dirname(start_frame)\n",
    "\n",
    "        window_fnames = []\n",
    "        for frame_id in range(start_id, start_id + syncnet_T):\n",
    "            frame = join(vidname, '{}.jpg'.format(frame_id))\n",
    "            if not isfile(frame):\n",
    "                return None\n",
    "            window_fnames.append(frame)\n",
    "        return window_fnames\n",
    "\n",
    "    def crop_audio_window(self, spec, start_frame):\n",
    "        # num_frames = (T x hop_size * fps) / sample_rate\n",
    "        start_frame_num = self.get_frame_id(start_frame)\n",
    "        start_idx = int(80. * (start_frame_num / float(hparams.fps)))\n",
    "\n",
    "        end_idx = start_idx + syncnet_mel_step_size\n",
    "\n",
    "        return spec[start_idx : end_idx, :]\n",
    "\n",
    "\n",
    "    def __len__(self):\n",
    "        return len(self.all_videos)\n",
    "\n",
    "    def __getitem__(self, idx):\n",
    "        \"\"\"\n",
    "        return: x,mel,y\n",
    "        x: 五张嘴唇图片\n",
    "        mel：对应的语音的mel spectrogram\n",
    "        t：同步or不同步\n",
    "        \n",
    "        \"\"\"\n",
    "        while 1:\n",
    "            idx = random.randint(0, len(self.all_videos) - 1)\n",
    "            vidname = self.all_videos[idx]\n",
    "\n",
    "            img_names = list(glob(join(vidname, '*.jpg')))\n",
    "            if len(img_names) <= 3 * syncnet_T:\n",
    "                continue\n",
    "            img_name = random.choice(img_names)\n",
    "            wrong_img_name = random.choice(img_names)\n",
    "            while wrong_img_name == img_name:\n",
    "                wrong_img_name = random.choice(img_names)\n",
    "            \n",
    "            \n",
    "            #随机决定是产生负样本还是正样本\n",
    "            if random.choice([True, False]):\n",
    "                y = torch.ones(1).float()\n",
    "                chosen = img_name\n",
    "            else:\n",
    "                y = torch.zeros(1).float()\n",
    "                chosen = wrong_img_name\n",
    "\n",
    "            window_fnames = self.get_window(chosen)\n",
    "            if window_fnames is None:\n",
    "                continue\n",
    "\n",
    "            window = []\n",
    "            all_read = True\n",
    "            for fname in window_fnames:\n",
    "                img = cv2.imread(fname)\n",
    "                if img is None:\n",
    "                    all_read = False\n",
    "                    break\n",
    "                try:\n",
    "                    img = cv2.resize(img, (hparams.img_size, hparams.img_size))\n",
    "                except Exception as e:\n",
    "                    all_read = False\n",
    "                    break\n",
    "\n",
    "                window.append(img)\n",
    "\n",
    "            if not all_read: continue\n",
    "\n",
    "            try:\n",
    "                wavpath = join(vidname, \"audio.wav\")\n",
    "                wav = audio.load_wav(wavpath, hparams.sample_rate)\n",
    "\n",
    "                orig_mel = audio.melspectrogram(wav).T\n",
    "            except Exception as e:\n",
    "                continue\n",
    "\n",
    "            mel = self.crop_audio_window(orig_mel.copy(), img_name)\n",
    "\n",
    "            if (mel.shape[0] != syncnet_mel_step_size):\n",
    "                continue\n",
    "\n",
    "            # H x W x 3 * T\n",
    "            x = np.concatenate(window, axis=2) / 255.\n",
    "            x = x.transpose(2, 0, 1)\n",
    "            x = x[:, x.shape[1]//2:]\n",
    "\n",
    "            x = torch.FloatTensor(x)\n",
    "            mel = torch.FloatTensor(mel.T).unsqueeze(0)\n",
    "\n",
    "            return x, mel, y"
   ]
  },
  {
   "cell_type": "code",
   "execution_count": 9,
   "id": "920f4070",
   "metadata": {
    "execution": {
     "iopub.execute_input": "2023-11-02T09:58:58.335007Z",
     "iopub.status.busy": "2023-11-02T09:58:58.334362Z",
     "iopub.status.idle": "2023-11-02T09:58:58.589298Z",
     "shell.execute_reply": "2023-11-02T09:58:58.590240Z",
     "shell.execute_reply.started": "2021-07-30T15:18:33.470434Z"
    },
    "papermill": {
     "duration": 0.290821,
     "end_time": "2023-11-02T09:58:58.590550",
     "exception": false,
     "start_time": "2023-11-02T09:58:58.299729",
     "status": "completed"
    },
    "tags": []
   },
   "outputs": [
    {
     "name": "stdout",
     "output_type": "stream",
     "text": [
      "torch.Size([15, 48, 96])\n",
      "torch.Size([1, 80, 16])\n",
      "torch.Size([1])\n"
     ]
    }
   ],
   "source": [
    "ds=Dataset(\"train\")\n",
    "x,mel,t=ds[0]\n",
    "print(x.shape)\n",
    "print(mel.shape)\n",
    "print(t.shape)"
   ]
  },
  {
   "cell_type": "code",
   "execution_count": 10,
   "id": "868d587d",
   "metadata": {
    "execution": {
     "iopub.execute_input": "2023-11-02T09:58:58.721662Z",
     "iopub.status.busy": "2023-11-02T09:58:58.721057Z",
     "iopub.status.idle": "2023-11-02T09:58:58.861564Z",
     "shell.execute_reply": "2023-11-02T09:58:58.860943Z",
     "shell.execute_reply.started": "2021-07-30T15:18:36.933382Z"
    },
    "papermill": {
     "duration": 0.204303,
     "end_time": "2023-11-02T09:58:58.861712",
     "exception": false,
     "start_time": "2023-11-02T09:58:58.657409",
     "status": "completed"
    },
    "tags": []
   },
   "outputs": [
    {
     "data": {
      "text/plain": [
       "<matplotlib.image.AxesImage at 0x7b4478a1e8d0>"
      ]
     },
     "execution_count": 10,
     "metadata": {},
     "output_type": "execute_result"
    },
    {
     "data": {
      "image/png": "[encoded data removed]",
      "text/plain": [
       "<Figure size 432x288 with 1 Axes>"
      ]
     },
     "metadata": {
      "needs_background": "light"
     },
     "output_type": "display_data"
    }
   ],
   "source": [
    "import matplotlib.pyplot as plt\n",
    "plt.imshow(mel[0].numpy())"
   ]
  },
  {
   "cell_type": "code",
   "execution_count": 11,
   "id": "0a8dbd90",
   "metadata": {
    "execution": {
     "iopub.execute_input": "2023-11-02T09:58:58.956254Z",
     "iopub.status.busy": "2023-11-02T09:58:58.955346Z",
     "iopub.status.idle": "2023-11-02T09:58:59.067961Z",
     "shell.execute_reply": "2023-11-02T09:58:59.068442Z",
     "shell.execute_reply.started": "2021-07-30T15:18:56.039099Z"
    },
    "papermill": {
     "duration": 0.173294,
     "end_time": "2023-11-02T09:58:59.068615",
     "exception": false,
     "start_time": "2023-11-02T09:58:58.895321",
     "status": "completed"
    },
    "tags": []
   },
   "outputs": [
    {
     "data": {
      "text/plain": [
       "<matplotlib.image.AxesImage at 0x7b447893b2d0>"
      ]
     },
     "execution_count": 11,
     "metadata": {},
     "output_type": "execute_result"
    },
    {
     "data": {
      "image/png": "[encoded data removed]",
      "text/plain": [
       "<Figure size 432x288 with 1 Axes>"
      ]
     },
     "metadata": {
      "needs_background": "light"
     },
     "output_type": "display_data"
    }
   ],
   "source": [
    "plt.imshow(x[:3,:,:].transpose(0,2).numpy())"
   ]
  },
  {
   "cell_type": "code",
   "execution_count": 12,
   "id": "3dd8a04d",
   "metadata": {
    "execution": {
     "iopub.execute_input": "2023-11-02T09:58:59.143666Z",
     "iopub.status.busy": "2023-11-02T09:58:59.143020Z",
     "iopub.status.idle": "2023-11-02T09:58:59.145848Z",
     "shell.execute_reply": "2023-11-02T09:58:59.145198Z",
     "shell.execute_reply.started": "2021-07-30T15:19:00.674203Z"
    },
    "papermill": {
     "duration": 0.042048,
     "end_time": "2023-11-02T09:58:59.145974",
     "exception": false,
     "start_time": "2023-11-02T09:58:59.103926",
     "status": "completed"
    },
    "tags": []
   },
   "outputs": [],
   "source": [
    "logloss = nn.BCELoss() \n",
    "def cosine_loss(a, v, y):\n",
    "    \"\"\"\n",
    "    a: audio_encoder的输出\n",
    "    v: video face_encoder的输出\n",
    "    y: 是否同步的真实值\n",
    "    \"\"\"\n",
    "    d = nn.functional.cosine_similarity(a, v)\n",
    "    loss = logloss(d.unsqueeze(1), y)\n",
    "\n",
    "    return loss"
   ]
  },
  {
   "cell_type": "code",
   "execution_count": 13,
   "id": "3ccba028",
   "metadata": {
    "execution": {
     "iopub.execute_input": "2023-11-02T09:58:59.234499Z",
     "iopub.status.busy": "2023-11-02T09:58:59.233649Z",
     "iopub.status.idle": "2023-11-02T09:58:59.236445Z",
     "shell.execute_reply": "2023-11-02T09:58:59.235925Z",
     "shell.execute_reply.started": "2021-07-30T15:19:09.309393Z"
    },
    "papermill": {
     "duration": 0.055656,
     "end_time": "2023-11-02T09:58:59.236560",
     "exception": false,
     "start_time": "2023-11-02T09:58:59.180904",
     "status": "completed"
    },
    "tags": []
   },
   "outputs": [],
   "source": [
    "def train(device, model, train_data_loader, test_data_loader, optimizer,\n",
    "          checkpoint_dir=None, checkpoint_interval=None, nepochs=None):\n",
    "\n",
    "    global global_step, global_epoch\n",
    "    resumed_step = global_step\n",
    "    \n",
    "    while global_epoch < nepochs:\n",
    "        running_loss = 0.\n",
    "        prog_bar = tqdm(enumerate(train_data_loader))\n",
    "        for step, (x, mel, y) in prog_bar:\n",
    "            model.train()\n",
    "            optimizer.zero_grad()\n",
    "\n",
    "            x = x.to(device)\n",
    "\n",
    "            mel = mel.to(device)\n",
    "\n",
    "            a, v = model(mel, x)\n",
    "            y = y.to(device)\n",
    "\n",
    "            loss = cosine_loss(a, v, y)\n",
    "            loss.backward()\n",
    "            optimizer.step()\n",
    "                \n",
    "            \n",
    "\n",
    "            global_step += 1\n",
    "            cur_session_steps = global_step - resumed_step\n",
    "            running_loss += loss.item()\n",
    "\n",
    "            if global_step == 1 or global_step % checkpoint_interval == 0:\n",
    "                save_checkpoint(\n",
    "                    model, optimizer, global_step, checkpoint_dir, global_epoch)\n",
    "\n",
    "            if global_step % hparams.syncnet_eval_interval == 0:\n",
    "                with torch.no_grad():\n",
    "                    eval_model(test_data_loader, global_step, device, model, checkpoint_dir)\n",
    "\n",
    "            prog_bar.set_description('Epoch: {} Loss: {}'.format(global_epoch, running_loss / (step + 1)))\n",
    "\n",
    "        global_epoch += 1\n",
    "\n",
    "def eval_model(test_data_loader, global_step, device, model, checkpoint_dir):\n",
    "    eval_steps = 1400\n",
    "    print('Evaluating for {} steps'.format(eval_steps))\n",
    "    losses = []\n",
    "    while 1:\n",
    "        for step, (x, mel, y) in enumerate(test_data_loader):\n",
    "\n",
    "            model.eval()\n",
    "\n",
    "            # Transform data to CUDA device\n",
    "            x = x.to(device)\n",
    "\n",
    "            mel = mel.to(device)\n",
    "\n",
    "            a, v = model(mel, x)\n",
    "            y = y.to(device)\n",
    "\n",
    "            loss = cosine_loss(a, v, y)\n",
    "            losses.append(loss.item())\n",
    "\n",
    "            if step > eval_steps: break\n",
    "\n",
    "        averaged_loss = sum(losses) / len(losses)\n",
    "        print(averaged_loss)\n",
    "\n",
    "        return\n",
    "\n",
    "latest_checkpoint_path = ''\n",
    "def save_checkpoint(model, optimizer, step, checkpoint_dir, epoch):\n",
    "    global latest_checkpoint_path\n",
    "    \n",
    "    checkpoint_path = join(\n",
    "        checkpoint_dir, \"checkpoint_step{:09d}.pth\".format(global_step))\n",
    "    optimizer_state = optimizer.state_dict() if hparams.save_optimizer_state else None\n",
    "    torch.save({\n",
    "        \"state_dict\": model.state_dict(),\n",
    "        \"optimizer\": optimizer_state,\n",
    "        \"global_step\": step,\n",
    "        \"global_epoch\": epoch,\n",
    "    }, checkpoint_path)\n",
    "    latest_checkpoint_path = checkpoint_path\n",
    "    print(\"Saved checkpoint:\", checkpoint_path)\n",
    "\n",
    "def _load(checkpoint_path):\n",
    "    if use_cuda:\n",
    "        checkpoint = torch.load(checkpoint_path)\n",
    "    else:\n",
    "        checkpoint = torch.load(checkpoint_path,\n",
    "                                map_location=lambda storage, loc: storage)\n",
    "    return checkpoint\n",
    "\n",
    "def load_checkpoint(path, model, optimizer, reset_optimizer=False):\n",
    "    global global_step\n",
    "    global global_epoch\n",
    "\n",
    "    print(\"Load checkpoint from: {}\".format(path))\n",
    "    checkpoint = _load(path)\n",
    "    model.load_state_dict(checkpoint[\"state_dict\"])\n",
    "    if not reset_optimizer:\n",
    "        optimizer_state = checkpoint[\"optimizer\"]\n",
    "        if optimizer_state is not None:\n",
    "            print(\"Load optimizer state from {}\".format(path))\n",
    "            optimizer.load_state_dict(checkpoint[\"optimizer\"])\n",
    "    global_step = checkpoint[\"global_step\"]\n",
    "    global_epoch = checkpoint[\"global_epoch\"]\n",
    "\n",
    "    return model"
   ]
  },
  {
   "cell_type": "code",
   "execution_count": 14,
   "id": "d70f9af8",
   "metadata": {
    "execution": {
     "iopub.execute_input": "2023-11-02T09:58:59.314151Z",
     "iopub.status.busy": "2023-11-02T09:58:59.313469Z",
     "iopub.status.idle": "2023-11-02T12:16:33.973226Z",
     "shell.execute_reply": "2023-11-02T12:16:33.974128Z",
     "shell.execute_reply.started": "2021-07-30T15:19:14.2154Z"
    },
    "papermill": {
     "duration": 8254.703563,
     "end_time": "2023-11-02T12:16:33.974378",
     "exception": false,
     "start_time": "2023-11-02T09:58:59.270815",
     "status": "completed"
    },
    "tags": []
   },
   "outputs": [
    {
     "name": "stdout",
     "output_type": "stream",
     "text": [
      "total trainable params 16435072\n",
      "Load checkpoint from: /kaggle/input/wav2lip24epoch/expert_checkpoints/checkpoint_step000060000.pth\n"
     ]
    },
    {
     "name": "stderr",
     "output_type": "stream",
     "text": [
      "Epoch: 20 Loss: 0.48332203482562125: : 2865it [20:44,  2.30it/s]\n",
      "Epoch: 21 Loss: 0.4821069194332259: : 2865it [19:16,  2.48it/s]\n",
      "Epoch: 22 Loss: 0.47878145759122326: : 2865it [19:23,  2.46it/s]\n",
      "Epoch: 23 Loss: 0.47948348685632064: : 1404it [09:41,  2.60it/s]"
     ]
    },
    {
     "name": "stdout",
     "output_type": "stream",
     "text": [
      "Saved checkpoint: /kaggle/working/expert_checkpoints/checkpoint_step000070000.pth\n",
      "Evaluating for 1400 steps\n"
     ]
    },
    {
     "name": "stderr",
     "output_type": "stream",
     "text": [
      "Epoch: 23 Loss: 0.4799394829313892: : 1407it [10:04,  3.92s/it]"
     ]
    },
    {
     "name": "stdout",
     "output_type": "stream",
     "text": [
      "0.4412049684016144\n"
     ]
    },
    {
     "name": "stderr",
     "output_type": "stream",
     "text": [
      "Epoch: 23 Loss: 0.4790076069130739: : 2865it [20:04,  2.38it/s]\n",
      "Epoch: 24 Loss: 0.4703784715338735: : 2865it [19:39,  2.43it/s]\n",
      "Epoch: 25 Loss: 0.4672579793561816: : 2865it [19:05,  2.50it/s]\n",
      "Epoch: 26 Loss: 0.4646043508035426: : 2809it [18:40,  2.67it/s]"
     ]
    },
    {
     "name": "stdout",
     "output_type": "stream",
     "text": [
      "Saved checkpoint: /kaggle/working/expert_checkpoints/checkpoint_step000080000.pth\n",
      "Evaluating for 1400 steps\n"
     ]
    },
    {
     "name": "stderr",
     "output_type": "stream",
     "text": [
      "Epoch: 26 Loss: 0.4646491017185976: : 2810it [19:00,  6.47s/it] "
     ]
    },
    {
     "name": "stdout",
     "output_type": "stream",
     "text": [
      "0.432718401446062\n"
     ]
    },
    {
     "name": "stderr",
     "output_type": "stream",
     "text": [
      "Epoch: 26 Loss: 0.4643614772414662: : 2865it [19:12,  2.49it/s]\n"
     ]
    }
   ],
   "source": [
    "checkpoint_dir = \"/kaggle/working/expert_checkpoints/\"\n",
    "checkpoint_path = '/kaggle/input/wav2lip24epoch/expert_checkpoints/checkpoint_step000060000.pth'\n",
    "\n",
    "\n",
    "if not os.path.exists(checkpoint_dir): os.mkdir(checkpoint_dir)\n",
    "\n",
    "# Dataset and Dataloader setup\n",
    "train_dataset = Dataset('train')\n",
    "test_dataset = Dataset('val')\n",
    "\n",
    "train_data_loader = data_utils.DataLoader(\n",
    "    train_dataset, batch_size=hparams.batch_size, shuffle=True,\n",
    "    num_workers=hparams.num_workers)\n",
    "\n",
    "test_data_loader = data_utils.DataLoader(\n",
    "    test_dataset, batch_size=hparams.batch_size,\n",
    "    num_workers=8)\n",
    "\n",
    "device = torch.device(\"cuda\" if use_cuda else \"cpu\")\n",
    "\n",
    "# Model\n",
    "\n",
    "model = SyncNet().to(device)\n",
    "print('total trainable params {}'.format(sum(p.numel() for p in model.parameters() if p.requires_grad)))\n",
    "\n",
    "optimizer = optim.Adam([p for p in model.parameters() if p.requires_grad],\n",
    "                       lr=1e-5)\n",
    "\n",
    "if checkpoint_path is not None:\n",
    "    load_checkpoint(checkpoint_path, model, optimizer, reset_optimizer=True)\n",
    "\n",
    "train(device, model, train_data_loader, test_data_loader, optimizer,\n",
    "      checkpoint_dir=checkpoint_dir,\n",
    "      checkpoint_interval=hparams.syncnet_checkpoint_interval,\n",
    "      nepochs=27)"
   ]
  },
  {
   "cell_type": "code",
   "execution_count": 15,
   "id": "92e150d7",
   "metadata": {
    "execution": {
     "iopub.execute_input": "2023-11-02T12:16:59.921686Z",
     "iopub.status.busy": "2023-11-02T12:16:59.921069Z",
     "iopub.status.idle": "2023-11-02T12:16:59.923933Z",
     "shell.execute_reply": "2023-11-02T12:16:59.923313Z",
     "shell.execute_reply.started": "2021-07-25T08:00:59.2366Z"
    },
    "papermill": {
     "duration": 12.851627,
     "end_time": "2023-11-02T12:16:59.924064",
     "exception": false,
     "start_time": "2023-11-02T12:16:47.072437",
     "status": "completed"
    },
    "tags": []
   },
   "outputs": [],
   "source": [
    "class nonorm_Conv2d(nn.Module): \n",
    "    def __init__(self, cin, cout, kernel_size, stride, padding, residual=False, *args, **kwargs):\n",
    "        super().__init__(*args, **kwargs)\n",
    "        self.conv_block = nn.Sequential(\n",
    "                            nn.Conv2d(cin, cout, kernel_size, stride, padding),\n",
    "                            )\n",
    "        self.act = nn.LeakyReLU(0.01, inplace=True)\n",
    "\n",
    "    def forward(self, x):\n",
    "        out = self.conv_block(x)\n",
    "        return self.act(out)\n",
    "\n",
    "class Conv2dTranspose(nn.Module):\n",
    "    def __init__(self, cin, cout, kernel_size, stride, padding, output_padding=0, *args, **kwargs):\n",
    "        super().__init__(*args, **kwargs)\n",
    "\n",
    "        self.conv_block = nn.Sequential(\n",
    "                            nn.ConvTranspose2d(cin, cout, kernel_size, stride, padding, output_padding),\n",
    "                            nn.BatchNorm2d(cout)\n",
    "                            )\n",
    "        self.act = nn.ReLU()\n",
    "\n",
    "    def forward(self, x):\n",
    "        out = self.conv_block(x)\n",
    "        return self.act(out)"
   ]
  },
  {
   "cell_type": "code",
   "execution_count": 16,
   "id": "b13cf592",
   "metadata": {
    "execution": {
     "iopub.execute_input": "2023-11-02T12:17:25.887127Z",
     "iopub.status.busy": "2023-11-02T12:17:25.886324Z",
     "iopub.status.idle": "2023-11-02T12:17:26.081840Z",
     "shell.execute_reply": "2023-11-02T12:17:26.081155Z",
     "shell.execute_reply.started": "2021-07-25T08:00:04.850039Z"
    },
    "papermill": {
     "duration": 13.21889,
     "end_time": "2023-11-02T12:17:26.081978",
     "exception": false,
     "start_time": "2023-11-02T12:17:12.863088",
     "status": "completed"
    },
    "tags": []
   },
   "outputs": [],
   "source": [
    "\n",
    "\n",
    "class Wav2Lip(nn.Module):\n",
    "    def __init__(self):\n",
    "        super(Wav2Lip, self).__init__()\n",
    "\n",
    "        self.face_encoder_blocks = nn.ModuleList([\n",
    "            nn.Sequential(Conv2d(6, 16, kernel_size=7, stride=1, padding=3)), # 96,96\n",
    "\n",
    "            nn.Sequential(Conv2d(16, 32, kernel_size=3, stride=2, padding=1), # 48,48\n",
    "            Conv2d(32, 32, kernel_size=3, stride=1, padding=1, residual=True),\n",
    "            Conv2d(32, 32, kernel_size=3, stride=1, padding=1, residual=True)),\n",
    "\n",
    "            nn.Sequential(Conv2d(32, 64, kernel_size=3, stride=2, padding=1),    # 24,24\n",
    "            Conv2d(64, 64, kernel_size=3, stride=1, padding=1, residual=True),\n",
    "            Conv2d(64, 64, kernel_size=3, stride=1, padding=1, residual=True),\n",
    "            Conv2d(64, 64, kernel_size=3, stride=1, padding=1, residual=True)),\n",
    "\n",
    "            nn.Sequential(Conv2d(64, 128, kernel_size=3, stride=2, padding=1),   # 12,12\n",
    "            Conv2d(128, 128, kernel_size=3, stride=1, padding=1, residual=True),\n",
    "            Conv2d(128, 128, kernel_size=3, stride=1, padding=1, residual=True)),\n",
    "\n",
    "            nn.Sequential(Conv2d(128, 256, kernel_size=3, stride=2, padding=1),       # 6,6\n",
    "            Conv2d(256, 256, kernel_size=3, stride=1, padding=1, residual=True),\n",
    "            Conv2d(256, 256, kernel_size=3, stride=1, padding=1, residual=True)),\n",
    "\n",
    "            nn.Sequential(Conv2d(256, 512, kernel_size=3, stride=2, padding=1),     # 3,3\n",
    "            Conv2d(512, 512, kernel_size=3, stride=1, padding=1, residual=True),),\n",
    "            \n",
    "            nn.Sequential(Conv2d(512, 512, kernel_size=3, stride=1, padding=0),     # 1, 1\n",
    "            Conv2d(512, 512, kernel_size=1, stride=1, padding=0)),])\n",
    "\n",
    "        self.audio_encoder = nn.Sequential(\n",
    "            Conv2d(1, 32, kernel_size=3, stride=1, padding=1),\n",
    "            Conv2d(32, 32, kernel_size=3, stride=1, padding=1, residual=True),\n",
    "            Conv2d(32, 32, kernel_size=3, stride=1, padding=1, residual=True),\n",
    "\n",
    "            Conv2d(32, 64, kernel_size=3, stride=(3, 1), padding=1),\n",
    "            Conv2d(64, 64, kernel_size=3, stride=1, padding=1, residual=True),\n",
    "            Conv2d(64, 64, kernel_size=3, stride=1, padding=1, residual=True),\n",
    "\n",
    "            Conv2d(64, 128, kernel_size=3, stride=3, padding=1),\n",
    "            Conv2d(128, 128, kernel_size=3, stride=1, padding=1, residual=True),\n",
    "            Conv2d(128, 128, kernel_size=3, stride=1, padding=1, residual=True),\n",
    "\n",
    "            Conv2d(128, 256, kernel_size=3, stride=(3, 2), padding=1),\n",
    "            Conv2d(256, 256, kernel_size=3, stride=1, padding=1, residual=True),\n",
    "\n",
    "            Conv2d(256, 512, kernel_size=3, stride=1, padding=0),\n",
    "            Conv2d(512, 512, kernel_size=1, stride=1, padding=0),)\n",
    "\n",
    "        self.face_decoder_blocks = nn.ModuleList([\n",
    "            nn.Sequential(Conv2d(512, 512, kernel_size=1, stride=1, padding=0),),\n",
    "\n",
    "            nn.Sequential(Conv2dTranspose(1024, 512, kernel_size=3, stride=1, padding=0), # 3,3\n",
    "            Conv2d(512, 512, kernel_size=3, stride=1, padding=1, residual=True),),\n",
    "\n",
    "            nn.Sequential(Conv2dTranspose(1024, 512, kernel_size=3, stride=2, padding=1, output_padding=1),\n",
    "            Conv2d(512, 512, kernel_size=3, stride=1, padding=1, residual=True),\n",
    "            Conv2d(512, 512, kernel_size=3, stride=1, padding=1, residual=True),), # 6, 6\n",
    "\n",
    "            nn.Sequential(Conv2dTranspose(768, 384, kernel_size=3, stride=2, padding=1, output_padding=1),\n",
    "            Conv2d(384, 384, kernel_size=3, stride=1, padding=1, residual=True),\n",
    "            Conv2d(384, 384, kernel_size=3, stride=1, padding=1, residual=True),), # 12, 12\n",
    "\n",
    "            nn.Sequential(Conv2dTranspose(512, 256, kernel_size=3, stride=2, padding=1, output_padding=1),\n",
    "            Conv2d(256, 256, kernel_size=3, stride=1, padding=1, residual=True),\n",
    "            Conv2d(256, 256, kernel_size=3, stride=1, padding=1, residual=True),), # 24, 24\n",
    "\n",
    "            nn.Sequential(Conv2dTranspose(320, 128, kernel_size=3, stride=2, padding=1, output_padding=1), \n",
    "            Conv2d(128, 128, kernel_size=3, stride=1, padding=1, residual=True),\n",
    "            Conv2d(128, 128, kernel_size=3, stride=1, padding=1, residual=True),), # 48, 48\n",
    "\n",
    "            nn.Sequential(Conv2dTranspose(160, 64, kernel_size=3, stride=2, padding=1, output_padding=1),\n",
    "            Conv2d(64, 64, kernel_size=3, stride=1, padding=1, residual=True),\n",
    "            Conv2d(64, 64, kernel_size=3, stride=1, padding=1, residual=True),),]) # 96,96\n",
    "\n",
    "        self.output_block = nn.Sequential(Conv2d(80, 32, kernel_size=3, stride=1, padding=1),\n",
    "            nn.Conv2d(32, 3, kernel_size=1, stride=1, padding=0),\n",
    "            nn.Sigmoid()) \n",
    "\n",
    "    def forward(self, audio_sequences, face_sequences):\n",
    "        # audio_sequences = (B, T, 1, 80, 16)\n",
    "        B = audio_sequences.size(0)\n",
    "\n",
    "        input_dim_size = len(face_sequences.size())\n",
    "        if input_dim_size > 4:\n",
    "            audio_sequences = torch.cat([audio_sequences[:, i] for i in range(audio_sequences.size(1))], dim=0)\n",
    "            face_sequences = torch.cat([face_sequences[:, :, i] for i in range(face_sequences.size(2))], dim=0)\n",
    "\n",
    "        audio_embedding = self.audio_encoder(audio_sequences) # B, 512, 1, 1\n",
    "\n",
    "        feats = []\n",
    "        x = face_sequences\n",
    "        for f in self.face_encoder_blocks:\n",
    "            x = f(x)\n",
    "            feats.append(x)\n",
    "\n",
    "        x = audio_embedding\n",
    "        for f in self.face_decoder_blocks:\n",
    "            x = f(x)\n",
    "            try:\n",
    "                x = torch.cat((x, feats[-1]), dim=1)\n",
    "            except Exception as e:\n",
    "                print(x.size())\n",
    "                print(feats[-1].size())\n",
    "                raise e\n",
    "            \n",
    "            feats.pop()\n",
    "\n",
    "        x = self.output_block(x)\n",
    "\n",
    "        if input_dim_size > 4:\n",
    "            x = torch.split(x, B, dim=0) # [(B, C, H, W)]\n",
    "            outputs = torch.stack(x, dim=2) # (B, C, T, H, W)\n",
    "\n",
    "        else:\n",
    "            outputs = x\n",
    "            \n",
    "        return outputs"
   ]
  },
  {
   "cell_type": "code",
   "execution_count": 17,
   "id": "5f86ef11",
   "metadata": {
    "execution": {
     "iopub.execute_input": "2023-11-02T12:17:51.829719Z",
     "iopub.status.busy": "2023-11-02T12:17:51.828639Z",
     "iopub.status.idle": "2023-11-02T12:17:51.831761Z",
     "shell.execute_reply": "2023-11-02T12:17:51.831045Z",
     "shell.execute_reply.started": "2021-07-25T08:00:08.961755Z"
    },
    "papermill": {
     "duration": 13.003755,
     "end_time": "2023-11-02T12:17:51.831924",
     "exception": false,
     "start_time": "2023-11-02T12:17:38.828169",
     "status": "completed"
    },
    "tags": []
   },
   "outputs": [],
   "source": [
    "\n",
    "class Wav2Lip_disc_qual(nn.Module):\n",
    "    def __init__(self):\n",
    "        super(Wav2Lip_disc_qual, self).__init__()\n",
    "\n",
    "        self.face_encoder_blocks = nn.ModuleList([\n",
    "            nn.Sequential(nonorm_Conv2d(3, 32, kernel_size=7, stride=1, padding=3)), # 48,96\n",
    "\n",
    "            nn.Sequential(nonorm_Conv2d(32, 64, kernel_size=5, stride=(1, 2), padding=2), # 48,48\n",
    "            nonorm_Conv2d(64, 64, kernel_size=5, stride=1, padding=2)),\n",
    "\n",
    "            nn.Sequential(nonorm_Conv2d(64, 128, kernel_size=5, stride=2, padding=2),    # 24,24\n",
    "            nonorm_Conv2d(128, 128, kernel_size=5, stride=1, padding=2)),\n",
    "\n",
    "            nn.Sequential(nonorm_Conv2d(128, 256, kernel_size=5, stride=2, padding=2),   # 12,12\n",
    "            nonorm_Conv2d(256, 256, kernel_size=5, stride=1, padding=2)),\n",
    "\n",
    "            nn.Sequential(nonorm_Conv2d(256, 512, kernel_size=3, stride=2, padding=1),       # 6,6\n",
    "            nonorm_Conv2d(512, 512, kernel_size=3, stride=1, padding=1)),\n",
    "\n",
    "            nn.Sequential(nonorm_Conv2d(512, 512, kernel_size=3, stride=2, padding=1),     # 3,3\n",
    "            nonorm_Conv2d(512, 512, kernel_size=3, stride=1, padding=1),),\n",
    "            \n",
    "            nn.Sequential(nonorm_Conv2d(512, 512, kernel_size=3, stride=1, padding=0),     # 1, 1\n",
    "            nonorm_Conv2d(512, 512, kernel_size=1, stride=1, padding=0)),])\n",
    "\n",
    "        self.binary_pred = nn.Sequential(nn.Conv2d(512, 1, kernel_size=1, stride=1, padding=0), nn.Sigmoid())\n",
    "        self.label_noise = .0\n",
    "\n",
    "    def get_lower_half(self, face_sequences):\n",
    "        return face_sequences[:, :, face_sequences.size(2)//2:]\n",
    "\n",
    "    def to_2d(self, face_sequences):\n",
    "        B = face_sequences.size(0)\n",
    "        face_sequences = torch.cat([face_sequences[:, :, i] for i in range(face_sequences.size(2))], dim=0)\n",
    "        return face_sequences\n",
    "\n",
    "    def perceptual_forward(self, false_face_sequences):\n",
    "        false_face_sequences = self.to_2d(false_face_sequences)\n",
    "        false_face_sequences = self.get_lower_half(false_face_sequences)\n",
    "\n",
    "        false_feats = false_face_sequences\n",
    "        for f in self.face_encoder_blocks:\n",
    "            false_feats = f(false_feats)\n",
    "\n",
    "        false_pred_loss = F.binary_cross_entropy(self.binary_pred(false_feats).view(len(false_feats), -1), \n",
    "                                        torch.ones((len(false_feats), 1)).cuda())\n",
    "\n",
    "        return false_pred_loss\n",
    "\n",
    "    def forward(self, face_sequences):\n",
    "        face_sequences = self.to_2d(face_sequences)\n",
    "        face_sequences = self.get_lower_half(face_sequences)\n",
    "\n",
    "        x = face_sequences\n",
    "        for f in self.face_encoder_blocks:\n",
    "            x = f(x)\n",
    "\n",
    "        return self.binary_pred(x).view(len(x), -1)"
   ]
  },
  {
   "cell_type": "code",
   "execution_count": 18,
   "id": "d726ae93",
   "metadata": {
    "execution": {
     "iopub.execute_input": "2023-11-02T12:18:17.646281Z",
     "iopub.status.busy": "2023-11-02T12:18:17.645616Z",
     "iopub.status.idle": "2023-11-02T12:18:17.648668Z",
     "shell.execute_reply": "2023-11-02T12:18:17.649112Z",
     "shell.execute_reply.started": "2021-07-25T08:00:11.621386Z"
    },
    "papermill": {
     "duration": 12.905371,
     "end_time": "2023-11-02T12:18:17.649267",
     "exception": false,
     "start_time": "2023-11-02T12:18:04.743896",
     "status": "completed"
    },
    "tags": []
   },
   "outputs": [
    {
     "name": "stdout",
     "output_type": "stream",
     "text": [
      "use_cuda: True\n"
     ]
    }
   ],
   "source": [
    "global_step = 0\n",
    "global_epoch = 0\n",
    "use_cuda = torch.cuda.is_available()\n",
    "print('use_cuda: {}'.format(use_cuda))\n",
    "\n",
    "syncnet_T = 5\n",
    "syncnet_mel_step_size = 16\n",
    "\n",
    "class Dataset(object):\n",
    "    def __init__(self, split):\n",
    "        self.all_videos = get_image_list(data_root, split)\n",
    "\n",
    "    def get_frame_id(self, frame):\n",
    "        return int(basename(frame).split('.')[0])\n",
    "\n",
    "    def get_window(self, start_frame):\n",
    "        start_id = self.get_frame_id(start_frame)\n",
    "        vidname = dirname(start_frame)\n",
    "\n",
    "        window_fnames = []\n",
    "        for frame_id in range(start_id, start_id + syncnet_T):\n",
    "            frame = join(vidname, '{}.jpg'.format(frame_id))\n",
    "            if not isfile(frame):\n",
    "                return None\n",
    "            window_fnames.append(frame)\n",
    "        return window_fnames\n",
    "\n",
    "    def read_window(self, window_fnames):\n",
    "        if window_fnames is None: return None\n",
    "        window = []\n",
    "        for fname in window_fnames:\n",
    "            img = cv2.imread(fname)\n",
    "            if img is None:\n",
    "                return None\n",
    "            try:\n",
    "                img = cv2.resize(img, (hparams.img_size, hparams.img_size))\n",
    "            except Exception as e:\n",
    "                return None\n",
    "\n",
    "            window.append(img)\n",
    "\n",
    "        return window\n",
    "\n",
    "    def crop_audio_window(self, spec, start_frame):\n",
    "        if type(start_frame) == int:\n",
    "            start_frame_num = start_frame\n",
    "        else:\n",
    "            start_frame_num = self.get_frame_id(start_frame) # 0-indexing ---> 1-indexing\n",
    "        start_idx = int(80. * (start_frame_num / float(hparams.fps)))\n",
    "        \n",
    "        end_idx = start_idx + syncnet_mel_step_size\n",
    "\n",
    "        return spec[start_idx : end_idx, :]\n",
    "\n",
    "    def get_segmented_mels(self, spec, start_frame):\n",
    "        mels = []\n",
    "        assert syncnet_T == 5\n",
    "        start_frame_num = self.get_frame_id(start_frame) + 1 # 0-indexing ---> 1-indexing\n",
    "        if start_frame_num - 2 < 0: return None\n",
    "        for i in range(start_frame_num, start_frame_num + syncnet_T):\n",
    "            m = self.crop_audio_window(spec, i - 2)\n",
    "            if m.shape[0] != syncnet_mel_step_size:\n",
    "                return None\n",
    "            mels.append(m.T)\n",
    "\n",
    "        mels = np.asarray(mels)\n",
    "\n",
    "        return mels\n",
    "\n",
    "    def prepare_window(self, window):\n",
    "        # 3 x T x H x W\n",
    "        x = np.asarray(window) / 255.\n",
    "        x = np.transpose(x, (3, 0, 1, 2))\n",
    "\n",
    "        return x\n",
    "\n",
    "    def __len__(self):\n",
    "        return len(self.all_videos)\n",
    "\n",
    "    def __getitem__(self, idx):\n",
    "        while 1:\n",
    "            idx = random.randint(0, len(self.all_videos) - 1) \n",
    "            vidname = self.all_videos[idx]\n",
    "            img_names = list(glob(join(vidname, '*.jpg')))\n",
    "            if len(img_names) <= 3 * syncnet_T:\n",
    "                continue\n",
    "            \n",
    "            img_name = random.choice(img_names)\n",
    "            wrong_img_name = random.choice(img_names)\n",
    "            while wrong_img_name == img_name:\n",
    "                wrong_img_name = random.choice(img_names)\n",
    "\n",
    "            window_fnames = self.get_window(img_name)\n",
    "            wrong_window_fnames = self.get_window(wrong_img_name)\n",
    "            if window_fnames is None or wrong_window_fnames is None:\n",
    "                continue\n",
    "\n",
    "            window = self.read_window(window_fnames)\n",
    "            if window is None:\n",
    "                continue\n",
    "\n",
    "            wrong_window = self.read_window(wrong_window_fnames)\n",
    "            if wrong_window is None:\n",
    "                continue\n",
    "\n",
    "            try:\n",
    "                \n",
    "                wavpath = join(vidname, \"audio.wav\")\n",
    "                wav = audio.load_wav(wavpath, hparams.sample_rate)\n",
    "                #spectrogram\n",
    "                orig_mel = audio.melspectrogram(wav).T\n",
    "            except Exception as e:\n",
    "                continue\n",
    "            # 分割 mel-spectrogram\n",
    "            mel = self.crop_audio_window(orig_mel.copy(), img_name)\n",
    "            \n",
    "            if (mel.shape[0] != syncnet_mel_step_size):\n",
    "                continue\n",
    "\n",
    "            indiv_mels = self.get_segmented_mels(orig_mel.copy(), img_name)\n",
    "            if indiv_mels is None: continue\n",
    "\n",
    "            window = self.prepare_window(window)\n",
    "            y = window.copy()\n",
    "            window[:, :, window.shape[2]//2:] = 0.\n",
    "\n",
    "            wrong_window = self.prepare_window(wrong_window)\n",
    "            x = np.concatenate([window, wrong_window], axis=0)\n",
    "\n",
    "            x = torch.FloatTensor(x)\n",
    "            mel = torch.FloatTensor(mel.T).unsqueeze(0)\n",
    "            indiv_mels = torch.FloatTensor(indiv_mels).unsqueeze(1)\n",
    "            y = torch.FloatTensor(y)\n",
    "            return x, indiv_mels, mel, y"
   ]
  },
  {
   "cell_type": "code",
   "execution_count": 19,
   "id": "f39ed863",
   "metadata": {
    "execution": {
     "iopub.execute_input": "2023-11-02T12:18:43.412702Z",
     "iopub.status.busy": "2023-11-02T12:18:43.412086Z",
     "iopub.status.idle": "2023-11-02T12:18:43.652798Z",
     "shell.execute_reply": "2023-11-02T12:18:43.650791Z",
     "shell.execute_reply.started": "2021-07-25T08:00:15.736819Z"
    },
    "papermill": {
     "duration": 13.106986,
     "end_time": "2023-11-02T12:18:43.653046",
     "exception": false,
     "start_time": "2023-11-02T12:18:30.546060",
     "status": "completed"
    },
    "tags": []
   },
   "outputs": [
    {
     "name": "stdout",
     "output_type": "stream",
     "text": [
      "torch.Size([6, 5, 96, 96])\n",
      "torch.Size([5, 1, 80, 16])\n",
      "torch.Size([1, 80, 16])\n",
      "torch.Size([3, 5, 96, 96])\n"
     ]
    }
   ],
   "source": [
    "ds=Dataset(\"train\")\n",
    "x, indiv_mels, mel, y=ds[0]\n",
    "print(x.shape)\n",
    "print(indiv_mels.shape)\n",
    "print(mel.shape)\n",
    "print(y.shape)"
   ]
  },
  {
   "cell_type": "markdown",
   "id": "93384d1c",
   "metadata": {
    "papermill": {
     "duration": 12.877973,
     "end_time": "2023-11-02T12:19:09.532109",
     "exception": false,
     "start_time": "2023-11-02T12:18:56.654136",
     "status": "completed"
    },
    "tags": []
   },
   "source": [
    "#### 3. 训练"
   ]
  },
  {
   "cell_type": "code",
   "execution_count": 20,
   "id": "81372502",
   "metadata": {
    "execution": {
     "iopub.execute_input": "2023-11-02T12:19:35.595362Z",
     "iopub.status.busy": "2023-11-02T12:19:35.574786Z",
     "iopub.status.idle": "2023-11-02T12:19:35.760657Z",
     "shell.execute_reply": "2023-11-02T12:19:35.759997Z",
     "shell.execute_reply.started": "2021-07-25T08:00:17.791703Z"
    },
    "papermill": {
     "duration": 13.307989,
     "end_time": "2023-11-02T12:19:35.760801",
     "exception": false,
     "start_time": "2023-11-02T12:19:22.452812",
     "status": "completed"
    },
    "tags": []
   },
   "outputs": [],
   "source": [
    "#bceloss\n",
    "logloss = nn.BCELoss()\n",
    "def cosine_loss(a, v, y):\n",
    "    d = nn.functional.cosine_similarity(a, v)\n",
    "    loss = logloss(d.unsqueeze(1), y)\n",
    "\n",
    "    return loss\n",
    "\n",
    "device = torch.device(\"cuda\" if use_cuda else \"cpu\")\n",
    "syncnet = SyncNet().to(device) #  \n",
    "for p in syncnet.parameters():\n",
    "    p.requires_grad = False\n",
    "\n",
    "    \n",
    "#####L1 loss    \n",
    "recon_loss = nn.L1Loss()\n",
    "def get_sync_loss(mel, g):\n",
    "    g = g[:, :, :, g.size(3)//2:]\n",
    "    g = torch.cat([g[:, :, i] for i in range(syncnet_T)], dim=1)\n",
    "    # B, 3 * T, H//2, W\n",
    "    a, v = syncnet(mel, g)\n",
    "    y = torch.ones(g.size(0), 1).float().to(device)\n",
    "    return cosine_loss(a, v, y)\n",
    "\n",
    "def train(device, model, disc, train_data_loader, test_data_loader, optimizer, disc_optimizer,\n",
    "          checkpoint_dir=None, checkpoint_interval=None, nepochs=None):\n",
    "    global global_step, global_epoch\n",
    "    resumed_step = global_step\n",
    "\n",
    "    while global_epoch < nepochs:\n",
    "        print('Starting Epoch: {}'.format(global_epoch))\n",
    "        running_sync_loss, running_l1_loss, disc_loss, running_perceptual_loss = 0., 0., 0., 0.\n",
    "        running_disc_real_loss, running_disc_fake_loss = 0., 0.\n",
    "        prog_bar = tqdm(enumerate(train_data_loader))\n",
    "        for step, (x, indiv_mels, mel, gt) in prog_bar:\n",
    "            disc.train()\n",
    "            model.train()\n",
    "\n",
    "            x = x.to(device)\n",
    "            mel = mel.to(device)\n",
    "            indiv_mels = indiv_mels.to(device)\n",
    "            gt = gt.to(device)\n",
    "\n",
    "            ### Train generator now. Remove ALL grads. \n",
    "            \n",
    "            optimizer.zero_grad()\n",
    "            disc_optimizer.zero_grad()\n",
    "\n",
    "            g = model(indiv_mels, x)\n",
    "\n",
    "            if hparams.syncnet_wt > 0.:\n",
    "                sync_loss = get_sync_loss(mel, g) \n",
    "            else:\n",
    "                sync_loss = 0.\n",
    "\n",
    "            if hparams.disc_wt > 0.:\n",
    "                perceptual_loss = disc.perceptual_forward(g)\n",
    "            else:\n",
    "                perceptual_loss = 0.\n",
    "\n",
    "            l1loss = recon_loss(g, gt)#l1 loss，\n",
    "            \n",
    "            \n",
    "            loss = hparams.syncnet_wt * sync_loss + hparams.disc_wt * perceptual_loss + \\\n",
    "                                    (1. - hparams.syncnet_wt - hparams.disc_wt) * l1loss\n",
    "\n",
    "            loss.backward()\n",
    "            optimizer.step()\n",
    "\n",
    "            ### Remove all gradients before Training disc\n",
    "            \n",
    "            disc_optimizer.zero_grad()\n",
    "\n",
    "            pred = disc(gt)\n",
    "            disc_real_loss = F.binary_cross_entropy(pred, torch.ones((len(pred), 1)).to(device))\n",
    "            disc_real_loss.backward()\n",
    "\n",
    "            pred = disc(g.detach())\n",
    "            disc_fake_loss = F.binary_cross_entropy(pred, torch.zeros((len(pred), 1)).to(device))\n",
    "            disc_fake_loss.backward()\n",
    "\n",
    "            disc_optimizer.step()\n",
    "\n",
    "            running_disc_real_loss += disc_real_loss.item()\n",
    "            running_disc_fake_loss += disc_fake_loss.item()\n",
    "\n",
    "            # Logs\n",
    "            global_step += 1\n",
    "            cur_session_steps = global_step - resumed_step\n",
    "\n",
    "            running_l1_loss += l1loss.item()\n",
    "            if hparams.syncnet_wt > 0.:\n",
    "                running_sync_loss += sync_loss.item()\n",
    "            else:\n",
    "                running_sync_loss += 0.\n",
    "\n",
    "            if hparams.disc_wt > 0.:\n",
    "                running_perceptual_loss += perceptual_loss.item()\n",
    "            else:\n",
    "                running_perceptual_loss += 0.\n",
    "\n",
    "            if global_step == 1 or global_step % checkpoint_interval == 0:\n",
    "                save_checkpoint(\n",
    "                    model, optimizer, global_step, checkpoint_dir, global_epoch)\n",
    "                save_checkpoint(disc, disc_optimizer, global_step, checkpoint_dir, global_epoch, prefix='disc_')\n",
    "\n",
    "\n",
    "            if global_step % hparams.eval_interval == 0:\n",
    "                with torch.no_grad():\n",
    "                    average_sync_loss = eval_model(test_data_loader, global_step, device, model, disc)\n",
    "\n",
    "                    if average_sync_loss < .75:\n",
    "                        hparams.set_hparam('syncnet_wt', 0.03)\n",
    "\n",
    "            prog_bar.set_description('L1: {}, Sync: {}, Percep: {} | Fake: {}, Real: {}'.format(running_l1_loss / (step + 1),\n",
    "                                                                                        running_sync_loss / (step + 1),\n",
    "                                                                                        running_perceptual_loss / (step + 1),\n",
    "                                                                                        running_disc_fake_loss / (step + 1),\n",
    "                                                                                        running_disc_real_loss / (step + 1)))\n",
    "\n",
    "        global_epoch += 1\n",
    "\n",
    "def eval_model(test_data_loader, global_step, device, model, disc):\n",
    "    eval_steps = 300\n",
    "    print('Evaluating for {} steps'.format(eval_steps))\n",
    "    running_sync_loss, running_l1_loss, running_disc_real_loss, running_disc_fake_loss, running_perceptual_loss = [], [], [], [], []\n",
    "    while 1:\n",
    "        for step, (x, indiv_mels, mel, gt) in enumerate((test_data_loader)):\n",
    "            model.eval()\n",
    "            disc.eval()\n",
    "\n",
    "            x = x.to(device)\n",
    "            mel = mel.to(device)\n",
    "            indiv_mels = indiv_mels.to(device)\n",
    "            gt = gt.to(device)\n",
    "\n",
    "            pred = disc(gt)\n",
    "            disc_real_loss = F.binary_cross_entropy(pred, torch.ones((len(pred), 1)).to(device))\n",
    "\n",
    "            g = model(indiv_mels, x)\n",
    "            pred = disc(g)\n",
    "            disc_fake_loss = F.binary_cross_entropy(pred, torch.zeros((len(pred), 1)).to(device))\n",
    "\n",
    "            running_disc_real_loss.append(disc_real_loss.item())\n",
    "            running_disc_fake_loss.append(disc_fake_loss.item())\n",
    "\n",
    "            sync_loss = get_sync_loss(mel, g)\n",
    "            \n",
    "            if hparams.disc_wt > 0.:\n",
    "                perceptual_loss = disc.perceptual_forward(g)\n",
    "            else:\n",
    "                perceptual_loss = 0.\n",
    "\n",
    "            l1loss = recon_loss(g, gt)\n",
    "\n",
    "            loss = hparams.syncnet_wt * sync_loss + hparams.disc_wt * perceptual_loss + \\\n",
    "                                    (1. - hparams.syncnet_wt - hparams.disc_wt) * l1loss\n",
    "\n",
    "            running_l1_loss.append(l1loss.item())\n",
    "            running_sync_loss.append(sync_loss.item())\n",
    "            \n",
    "            if hparams.disc_wt > 0.:\n",
    "                running_perceptual_loss.append(perceptual_loss.item())\n",
    "            else:\n",
    "                running_perceptual_loss.append(0.)\n",
    "\n",
    "            if step > eval_steps: break\n",
    "\n",
    "        print('L1: {}, Sync: {}, Percep: {} | Fake: {}, Real: {}'.format(sum(running_l1_loss) / len(running_l1_loss),\n",
    "                                                            sum(running_sync_loss) / len(running_sync_loss),\n",
    "                                                            sum(running_perceptual_loss) / len(running_perceptual_loss),\n",
    "                                                            sum(running_disc_fake_loss) / len(running_disc_fake_loss),\n",
    "                                                             sum(running_disc_real_loss) / len(running_disc_real_loss)))\n",
    "        return sum(running_sync_loss) / len(running_sync_loss)\n",
    "\n",
    "latest_wav2lip_checkpoint = ''\n",
    "def save_checkpoint(model, optimizer, step, checkpoint_dir, epoch, prefix=''):\n",
    "    global latest_wav2lip_checkpoint\n",
    "    checkpoint_path = join(\n",
    "        checkpoint_dir, \"{}checkpoint_step{:09d}.pth\".format(prefix, global_step))\n",
    "    if 'disc' not in checkpoint_path:\n",
    "        latest_wav2lip_checkpoint = checkpoint_path\n",
    "    optimizer_state = optimizer.state_dict() if hparams.save_optimizer_state else None\n",
    "    torch.save({\n",
    "        \"state_dict\": model.state_dict(),\n",
    "        \"optimizer\": optimizer_state,\n",
    "        \"global_step\": step,\n",
    "        \"global_epoch\": epoch,\n",
    "    }, checkpoint_path)\n",
    "    print(\"Saved checkpoint:\", checkpoint_path)\n",
    "\n",
    "def _load(checkpoint_path):\n",
    "    if use_cuda:\n",
    "        checkpoint = torch.load(checkpoint_path)\n",
    "    else:\n",
    "        checkpoint = torch.load(checkpoint_path,\n",
    "                                map_location=lambda storage, loc: storage)\n",
    "    return checkpoint\n",
    "\n",
    "\n",
    "def load_checkpoint(path, model, optimizer, reset_optimizer=False, overwrite_global_states=True):\n",
    "    global global_step\n",
    "    global global_epoch\n",
    "\n",
    "    print(\"Load checkpoint from: {}\".format(path))\n",
    "    checkpoint = _load(path)\n",
    "    s = checkpoint[\"state_dict\"]\n",
    "    new_s = {}\n",
    "    for k, v in s.items():\n",
    "        new_s[k.replace('module.', '')] = v\n",
    "    model.load_state_dict(new_s)\n",
    "    if not reset_optimizer:\n",
    "        optimizer_state = checkpoint[\"optimizer\"]\n",
    "        if optimizer_state is not None:\n",
    "            print(\"Load optimizer state from {}\".format(path))\n",
    "            optimizer.load_state_dict(checkpoint[\"optimizer\"])\n",
    "    if overwrite_global_states:\n",
    "        global_step = checkpoint[\"global_step\"]\n",
    "        global_epoch = checkpoint[\"global_epoch\"]\n",
    "\n",
    "    return model"
   ]
  },
  {
   "cell_type": "code",
   "execution_count": 21,
   "id": "e868e5a9",
   "metadata": {
    "execution": {
     "iopub.execute_input": "2023-11-02T12:20:01.679168Z",
     "iopub.status.busy": "2023-11-02T12:20:01.678315Z",
     "iopub.status.idle": "2023-11-02T17:21:51.147365Z",
     "shell.execute_reply": "2023-11-02T17:21:51.146775Z",
     "shell.execute_reply.started": "2021-07-25T08:01:08.453052Z"
    },
    "papermill": {
     "duration": 18122.354122,
     "end_time": "2023-11-02T17:21:51.147520",
     "exception": false,
     "start_time": "2023-11-02T12:19:48.793398",
     "status": "completed"
    },
    "tags": []
   },
   "outputs": [
    {
     "name": "stdout",
     "output_type": "stream",
     "text": [
      "total trainable params 36298035\n",
      "total DISC trainable params 14113793\n",
      "Load checkpoint from: /kaggle/working/expert_checkpoints/checkpoint_step000080000.pth\n",
      "Starting Epoch: 0\n"
     ]
    },
    {
     "name": "stderr",
     "output_type": "stream",
     "text": [
      "0it [00:00, ?it/s]"
     ]
    },
    {
     "name": "stdout",
     "output_type": "stream",
     "text": [
      "Saved checkpoint: /kaggle/working/wav2lip_checkpoints/checkpoint_step000000001.pth\n"
     ]
    },
    {
     "name": "stderr",
     "output_type": "stream",
     "text": [
      "L1: 0.2125028520822525, Sync: 0.0, Percep: 0.7112582325935364 | Fake: 0.6753584742546082, Real: 0.711258053779602: : 1it [00:14, 14.75s/it]"
     ]
    },
    {
     "name": "stdout",
     "output_type": "stream",
     "text": [
      "Saved checkpoint: /kaggle/working/wav2lip_checkpoints/disc_checkpoint_step000000001.pth\n"
     ]
    },
    {
     "name": "stderr",
     "output_type": "stream",
     "text": [
      "L1: 0.05340288229884797, Sync: 0.0, Percep: 0.7204441924746852 | Fake: 0.6801793053044074, Real: 0.6945417820647964: : 2865it [59:20,  1.24s/it]"
     ]
    },
    {
     "name": "stdout",
     "output_type": "stream",
     "text": [
      "Starting Epoch: 1\n"
     ]
    },
    {
     "name": "stderr",
     "output_type": "stream",
     "text": [
      "\n",
      "L1: 0.0413928986457524, Sync: 0.0, Percep: 0.7049959270811793 | Fake: 0.6840310145669909, Real: 0.6998657940038994: : 134it [02:59,  1.24s/it]"
     ]
    },
    {
     "name": "stdout",
     "output_type": "stream",
     "text": [
      "Saved checkpoint: /kaggle/working/wav2lip_checkpoints/checkpoint_step000003000.pth\n",
      "Saved checkpoint: /kaggle/working/wav2lip_checkpoints/disc_checkpoint_step000003000.pth\n",
      "Evaluating for 300 steps\n"
     ]
    },
    {
     "name": "stderr",
     "output_type": "stream",
     "text": [
      "L1: 0.04138963855803013, Sync: 0.0, Percep: 0.7048521986714116 | Fake: 0.6841630224828367, Real: 0.6996343100512469: : 135it [03:43, 14.20s/it]"
     ]
    },
    {
     "name": "stdout",
     "output_type": "stream",
     "text": [
      "L1: 0.03474966962547863, Sync: 1.433393979773802, Percep: 0.6570781057371813 | Fake: 0.7350428858224083, Real: 0.6459384718362022\n"
     ]
    },
    {
     "name": "stderr",
     "output_type": "stream",
     "text": [
      "L1: 0.039079156693519725, Sync: 0.0, Percep: 0.6948325128299404 | Fake: 0.6939024634178188, Real: 0.6914276647422118: : 2865it [59:55,  1.25s/it]\n"
     ]
    },
    {
     "name": "stdout",
     "output_type": "stream",
     "text": [
      "Starting Epoch: 2\n"
     ]
    },
    {
     "name": "stderr",
     "output_type": "stream",
     "text": [
      "L1: 0.03721257846206981, Sync: 0.0, Percep: 0.6973714775312345 | Fake: 0.6904829089083193, Real: 0.6949389966890271: : 269it [05:50,  1.25s/it]"
     ]
    },
    {
     "name": "stdout",
     "output_type": "stream",
     "text": [
      "Saved checkpoint: /kaggle/working/wav2lip_checkpoints/checkpoint_step000006000.pth\n",
      "Saved checkpoint: /kaggle/working/wav2lip_checkpoints/disc_checkpoint_step000006000.pth\n",
      "Evaluating for 300 steps\n"
     ]
    },
    {
     "name": "stderr",
     "output_type": "stream",
     "text": [
      "L1: 0.03723369523606918, Sync: 0.0, Percep: 0.6972903196458463 | Fake: 0.6905608594417572, Real: 0.6948745882069624: : 270it [06:36, 14.79s/it]"
     ]
    },
    {
     "name": "stdout",
     "output_type": "stream",
     "text": [
      "L1: 0.033142985995201504, Sync: 0.9321227468111936, Percep: 0.6870262044317582 | Fake: 0.699770409394713, Real: 0.6851317908834008\n"
     ]
    },
    {
     "name": "stderr",
     "output_type": "stream",
     "text": [
      "L1: 0.03566748835926593, Sync: 0.0, Percep: 0.6969164271837338 | Fake: 0.6923279718526787, Real: 0.6925369480933611: : 2865it [1:00:45,  1.27s/it]"
     ]
    },
    {
     "name": "stdout",
     "output_type": "stream",
     "text": [
      "Starting Epoch: 3\n"
     ]
    },
    {
     "name": "stderr",
     "output_type": "stream",
     "text": [
      "\n",
      "L1: 0.03445471352021588, Sync: 0.0, Percep: 0.6955329941050841 | Fake: 0.6938766646798294, Real: 0.6892058345129585: : 404it [08:38,  1.25s/it]"
     ]
    },
    {
     "name": "stdout",
     "output_type": "stream",
     "text": [
      "Saved checkpoint: /kaggle/working/wav2lip_checkpoints/checkpoint_step000009000.pth\n",
      "Saved checkpoint: /kaggle/working/wav2lip_checkpoints/disc_checkpoint_step000009000.pth\n",
      "Evaluating for 300 steps\n"
     ]
    },
    {
     "name": "stderr",
     "output_type": "stream",
     "text": [
      "L1: 0.03447484033711162, Sync: 0.0, Percep: 0.6955338844546566 | Fake: 0.6938694169491897, Real: 0.6891788571337123: : 405it [09:25, 15.03s/it]"
     ]
    },
    {
     "name": "stdout",
     "output_type": "stream",
     "text": [
      "L1: 0.03377383752890369, Sync: 0.8116050901658395, Percep: 0.6949812717297498 | Fake: 0.6921895707354826, Real: 0.6778730522183811\n"
     ]
    },
    {
     "name": "stderr",
     "output_type": "stream",
     "text": [
      "L1: 0.03413254674231507, Sync: 0.0, Percep: 0.6988335271156271 | Fake: 0.6907379700355297, Real: 0.6931049331788617: : 2865it [1:00:37,  1.27s/it]"
     ]
    },
    {
     "name": "stdout",
     "output_type": "stream",
     "text": [
      "Starting Epoch: 4\n"
     ]
    },
    {
     "name": "stderr",
     "output_type": "stream",
     "text": [
      "\n",
      "L1: 0.032855503223076156, Sync: 0.0, Percep: 0.6984667263800669 | Fake: 0.6912781460165757, Real: 0.6921107965851537: : 539it [11:22,  1.24s/it]"
     ]
    },
    {
     "name": "stdout",
     "output_type": "stream",
     "text": [
      "Saved checkpoint: /kaggle/working/wav2lip_checkpoints/checkpoint_step000012000.pth\n",
      "Saved checkpoint: /kaggle/working/wav2lip_checkpoints/disc_checkpoint_step000012000.pth\n",
      "Evaluating for 300 steps\n"
     ]
    },
    {
     "name": "stderr",
     "output_type": "stream",
     "text": [
      "L1: 0.03286198592503314, Sync: 0.0, Percep: 0.6985279241093882 | Fake: 0.6912137924521058, Real: 0.6921684326948943: : 540it [12:07, 14.45s/it]"
     ]
    },
    {
     "name": "stdout",
     "output_type": "stream",
     "text": [
      "L1: 0.027995452723082376, Sync: 0.706808291375637, Percep: 0.7177062884849661 | Fake: 0.670196591054692, Real: 0.7052458568530924\n"
     ]
    },
    {
     "name": "stderr",
     "output_type": "stream",
     "text": [
      "L1: 0.03382600274450596, Sync: 0.15704056348320078, Percep: 0.7008238289862819 | Fake: 0.6898790033075822, Real: 0.693933175199943: : 2865it [1:01:07,  1.28s/it]\n"
     ]
    }
   ],
   "source": [
    "checkpoint_dir = \"/kaggle/working/wav2lip_checkpoints\"  #checkpoint 存储的位置\n",
    "\n",
    "# Dataset and Dataloader setup\n",
    "train_dataset = Dataset('train')\n",
    "test_dataset = Dataset('val')\n",
    "\n",
    "train_data_loader = data_utils.DataLoader(\n",
    "    train_dataset, batch_size=hparams.batch_size, shuffle=True,\n",
    "    num_workers=hparams.num_workers)\n",
    "\n",
    "test_data_loader = data_utils.DataLoader(\n",
    "    test_dataset, batch_size=hparams.batch_size,\n",
    "    num_workers=4)\n",
    "device = torch.device(\"cuda\" if use_cuda else \"cpu\")\n",
    "\n",
    " # Model\n",
    "model = Wav2Lip().to(device)\n",
    "disc = Wav2Lip_disc_qual().to(device) \n",
    "\n",
    "print('total trainable params {}'.format(sum(p.numel() for p in model.parameters() if p.requires_grad)))\n",
    "print('total DISC trainable params {}'.format(sum(p.numel() for p in disc.parameters() if p.requires_grad)))\n",
    "\n",
    "optimizer = optim.Adam([p for p in model.parameters() if p.requires_grad],\n",
    "                       lr=hparams.initial_learning_rate,\n",
    "                       betas=(0.5, 0.999))#####adam，betas=[0.5,0.999]\n",
    "disc_optimizer = optim.Adam([p for p in disc.parameters() if p.requires_grad],\n",
    "                            lr=hparams.disc_initial_learning_rate,\n",
    "                            betas=(0.5, 0.999))#####adam，betas=[0.5,0.999]\n",
    "\n",
    "\n",
    "# checkpoint_path=\"\"\n",
    "# load_checkpoint(checkpoint_path, model, optimizer, reset_optimizer=False)\n",
    "# disc_checkpoint_path=\"\"\n",
    "# load_checkpoint(disc_checkpoint_path, disc, disc_optimizer, \n",
    "#                             reset_optimizer=False, overwrite_global_states=False)\n",
    "\n",
    "syncnet_checkpoint_path = latest_checkpoint_path\n",
    "# syncnet_checkpoint_path=\"/kaggle/working/expert_checkpoints/checkpoint_step000000001.pth\"\n",
    "load_checkpoint(syncnet_checkpoint_path, syncnet, None, reset_optimizer=True,\n",
    "                            overwrite_global_states=False)\n",
    "\n",
    "if not os.path.exists(checkpoint_dir):\n",
    "    os.mkdir(checkpoint_dir)\n",
    "\n",
    "# Train!\n",
    "train(device, model, disc, train_data_loader, test_data_loader, optimizer, disc_optimizer,\n",
    "          checkpoint_dir=checkpoint_dir,\n",
    "          checkpoint_interval=hparams.checkpoint_interval,\n",
    "          nepochs=5)"
   ]
  },
  {
   "cell_type": "code",
   "execution_count": 22,
   "id": "a2e26081",
   "metadata": {
    "execution": {
     "iopub.execute_input": "2023-11-02T17:22:35.806916Z",
     "iopub.status.busy": "2023-11-02T17:22:35.805846Z",
     "iopub.status.idle": "2023-11-02T17:22:35.809077Z",
     "shell.execute_reply": "2023-11-02T17:22:35.808212Z"
    },
    "papermill": {
     "duration": 22.313437,
     "end_time": "2023-11-02T17:22:35.809261",
     "exception": false,
     "start_time": "2023-11-02T17:22:13.495824",
     "status": "completed"
    },
    "tags": []
   },
   "outputs": [],
   "source": [
    "# !python wav2lip_train.py --data_root lrs2_preprocessed/ --checkpoint_dir <folder_to_save_checkpoints> --syncnet_checkpoint_path <path_to_expert_disc_checkpoint>"
   ]
  },
  {
   "cell_type": "code",
   "execution_count": 23,
   "id": "7eac30f3",
   "metadata": {
    "execution": {
     "iopub.execute_input": "2023-11-02T17:23:20.112491Z",
     "iopub.status.busy": "2023-11-02T17:23:20.111792Z",
     "iopub.status.idle": "2023-11-02T17:23:20.158825Z",
     "shell.execute_reply": "2023-11-02T17:23:20.159303Z",
     "shell.execute_reply.started": "2021-07-24T13:57:11.710238Z"
    },
    "papermill": {
     "duration": 22.179579,
     "end_time": "2023-11-02T17:23:20.159471",
     "exception": false,
     "start_time": "2023-11-02T17:22:57.979892",
     "status": "completed"
    },
    "tags": []
   },
   "outputs": [],
   "source": [
    "from os import listdir, path\n",
    "import numpy as np\n",
    "import scipy, cv2, os, sys, argparse, audio\n",
    "import json, subprocess, random, string\n",
    "from tqdm import tqdm\n",
    "from glob import glob\n",
    "import torch, face_detection\n",
    "from models import Wav2Lip\n",
    "import platform\n",
    "import audio"
   ]
  },
  {
   "cell_type": "code",
   "execution_count": 24,
   "id": "4d4db1b9",
   "metadata": {
    "execution": {
     "iopub.execute_input": "2023-11-02T17:24:04.815366Z",
     "iopub.status.busy": "2023-11-02T17:24:04.814696Z",
     "iopub.status.idle": "2023-11-02T17:24:04.817593Z",
     "shell.execute_reply": "2023-11-02T17:24:04.816996Z",
     "shell.execute_reply.started": "2021-07-24T13:59:02.638662Z"
    },
    "papermill": {
     "duration": 22.31943,
     "end_time": "2023-11-02T17:24:04.817753",
     "exception": false,
     "start_time": "2023-11-02T17:23:42.498323",
     "status": "completed"
    },
    "tags": []
   },
   "outputs": [],
   "source": [
    "checkpoint_path=\"/kaggle/working/wav2lip_checkpoints/checkpoint_step000000001.pth\"#生成器的checkpoint位置\n",
    "checkpoint_path = latest_wav2lip_checkpoint\n",
    "face=\"/kaggle/input/jakeydata/jakedrive.mp4\" \n",
    "speech=\"/kaggle/input/jakeydata/laucky 2.wav\"\n",
    "resize_factor=1 \n",
    "crop=[0,-1,0,-1] \n",
    "fps=25\n",
    "static=False"
   ]
  },
  {
   "cell_type": "code",
   "execution_count": 25,
   "id": "e3b7fa1a",
   "metadata": {
    "execution": {
     "iopub.execute_input": "2023-11-02T17:24:49.196949Z",
     "iopub.status.busy": "2023-11-02T17:24:49.196319Z",
     "iopub.status.idle": "2023-11-02T17:24:49.333289Z",
     "shell.execute_reply": "2023-11-02T17:24:49.332680Z",
     "shell.execute_reply.started": "2021-07-24T13:59:14.496913Z"
    },
    "papermill": {
     "duration": 22.426508,
     "end_time": "2023-11-02T17:24:49.333430",
     "exception": false,
     "start_time": "2023-11-02T17:24:26.906922",
     "status": "completed"
    },
    "tags": []
   },
   "outputs": [
    {
     "name": "stdout",
     "output_type": "stream",
     "text": [
      "Reading video frames...\n",
      "Number of frames available for inference: 169\n"
     ]
    }
   ],
   "source": [
    "if not os.path.isfile(face):\n",
    "    raise ValueError('--face argument must be a valid path to video/image file')\n",
    "\n",
    "\n",
    "else:# 若输入的是视频格式\n",
    "    video_stream = cv2.VideoCapture(face)# 读取视频\n",
    "    fps = video_stream.get(cv2.CAP_PROP_FPS)# 读取 fps\n",
    "\n",
    "    print('Reading video frames...')\n",
    "\n",
    "    full_frames = []\n",
    "    #提取所有的帧\n",
    "    while 1:\n",
    "        still_reading, frame = video_stream.read()\n",
    "        if not still_reading:\n",
    "            video_stream.release()\n",
    "            break\n",
    "        if resize_factor > 1: # 进行下采样，降低分辨率\n",
    "            frame = cv2.resize(frame, (frame.shape[1]//resize_factor, frame.shape[0]//resize_factor))\n",
    "\n",
    "        \n",
    "\n",
    "        y1, y2, x1, x2 =crop  # 裁剪\n",
    "        if x2 == -1: x2 = frame.shape[1]\n",
    "        if y2 == -1: y2 = frame.shape[0]\n",
    "\n",
    "        frame = frame[y1:y2, x1:x2]\n",
    "\n",
    "        full_frames.append(frame)\n",
    "\n",
    "print (\"Number of frames available for inference: \"+str(len(full_frames)))"
   ]
  },
  {
   "cell_type": "code",
   "execution_count": 26,
   "id": "c7a6ce0b",
   "metadata": {
    "execution": {
     "iopub.execute_input": "2023-11-02T17:25:33.739434Z",
     "iopub.status.busy": "2023-11-02T17:25:33.738776Z",
     "iopub.status.idle": "2023-11-02T17:25:34.540425Z",
     "shell.execute_reply": "2023-11-02T17:25:34.541324Z",
     "shell.execute_reply.started": "2021-07-24T13:59:29.319841Z"
    },
    "papermill": {
     "duration": 23.034511,
     "end_time": "2023-11-02T17:25:34.541660",
     "exception": false,
     "start_time": "2023-11-02T17:25:11.507149",
     "status": "completed"
    },
    "tags": []
   },
   "outputs": [
    {
     "name": "stdout",
     "output_type": "stream",
     "text": [
      "(80, 493)\n"
     ]
    }
   ],
   "source": [
    "#检查输入的音频是否为 .wav格式的，若不是则进行转换\n",
    "if not speech.endswith('.wav'):\n",
    "    print('Extracting raw audio...')\n",
    "    command = 'ffmpeg -y -i {} -strict -2 {}'.format(speech, 'temp/temp.wav')\n",
    "\n",
    "    subprocess.call(command, shell=True)\n",
    "    speech = 'temp/temp.wav'\n",
    "\n",
    "wav = audio.load_wav(speech, 16000)#保证采样率为16000\n",
    "mel = audio.melspectrogram(wav)\n",
    "print(mel.shape)\n"
   ]
  },
  {
   "cell_type": "code",
   "execution_count": 27,
   "id": "8edadf0e",
   "metadata": {
    "execution": {
     "iopub.execute_input": "2023-11-02T17:26:19.369176Z",
     "iopub.status.busy": "2023-11-02T17:26:19.368476Z",
     "iopub.status.idle": "2023-11-02T17:26:19.371956Z",
     "shell.execute_reply": "2023-11-02T17:26:19.371433Z",
     "shell.execute_reply.started": "2021-07-24T13:59:40.598345Z"
    },
    "papermill": {
     "duration": 22.307306,
     "end_time": "2023-11-02T17:26:19.372107",
     "exception": false,
     "start_time": "2023-11-02T17:25:57.064801",
     "status": "completed"
    },
    "tags": []
   },
   "outputs": [
    {
     "name": "stdout",
     "output_type": "stream",
     "text": [
      "Length of mel chunks: 151\n"
     ]
    }
   ],
   "source": [
    "wav2lip_batch_size=128 \n",
    "mel_step_size=16\n",
    "\n",
    "mel_chunks = []\n",
    "mel_idx_multiplier = 80./fps \n",
    "i = 0\n",
    "while 1:\n",
    "    start_idx = int(i * mel_idx_multiplier)\n",
    "    if start_idx + mel_step_size > len(mel[0]):\n",
    "        mel_chunks.append(mel[:, len(mel[0]) - mel_step_size:])\n",
    "        break\n",
    "    mel_chunks.append(mel[:, start_idx : start_idx + mel_step_size])\n",
    "    i += 1\n",
    "\n",
    "print(\"Length of mel chunks: {}\".format(len(mel_chunks)))\n",
    "\n",
    "full_frames = full_frames[:len(mel_chunks)]\n",
    "\n",
    "batch_size = wav2lip_batch_size"
   ]
  },
  {
   "cell_type": "code",
   "execution_count": 28,
   "id": "3443d1d1",
   "metadata": {
    "execution": {
     "iopub.execute_input": "2023-11-02T17:27:03.756685Z",
     "iopub.status.busy": "2023-11-02T17:27:03.755732Z",
     "iopub.status.idle": "2023-11-02T17:27:03.759386Z",
     "shell.execute_reply": "2023-11-02T17:27:03.758875Z",
     "shell.execute_reply.started": "2021-07-24T13:59:59.813928Z"
    },
    "papermill": {
     "duration": 22.125607,
     "end_time": "2023-11-02T17:27:03.759515",
     "exception": false,
     "start_time": "2023-11-02T17:26:41.633908",
     "status": "completed"
    },
    "tags": []
   },
   "outputs": [
    {
     "name": "stdout",
     "output_type": "stream",
     "text": [
      "Using cuda for inference.\n"
     ]
    }
   ],
   "source": [
    "img_size = 96 \n",
    "pads=[0,20,0,0] \n",
    "nosmooth=False\n",
    "face_det_batch_size=16\n",
    "\n",
    "def get_smoothened_boxes(boxes, T):\n",
    "    for i in range(len(boxes)):\n",
    "        if i + T > len(boxes):\n",
    "            window = boxes[len(boxes) - T:]\n",
    "        else:\n",
    "            window = boxes[i : i + T]\n",
    "        boxes[i] = np.mean(window, axis=0)\n",
    "    return boxes\n",
    "\n",
    "#人脸检测函数\n",
    "def face_detect(images):\n",
    "    detector = face_detection.FaceAlignment(face_detection.LandmarksType._2D, \n",
    "                                            flip_input=False, device=device)\n",
    "\n",
    "    batch_size = face_det_batch_size\n",
    "\n",
    "    while 1:\n",
    "        predictions = []\n",
    "        try:\n",
    "            for i in tqdm(range(0, len(images), batch_size)):\n",
    "                predictions.extend(detector.get_detections_for_batch(np.array(images[i:i + batch_size])))\n",
    "        except RuntimeError:\n",
    "            if batch_size == 1: \n",
    "                raise RuntimeError('Image too big to run face detection on GPU. Please use the --resize_factor argument')\n",
    "            batch_size //= 2\n",
    "            print('Recovering from OOM error; New batch size: {}'.format(batch_size))\n",
    "            continue\n",
    "        break\n",
    "\n",
    "    results = []\n",
    "    pady1, pady2, padx1, padx2 = pads\n",
    "    for rect, image in zip(predictions, images):\n",
    "        if rect is None:\n",
    "            cv2.imwrite('temp/faulty_frame.jpg', image) # check this frame where the face was not detected.\n",
    "            raise ValueError('Face not detected! Ensure the video contains a face in all the frames.')\n",
    "\n",
    "        y1 = max(0, rect[1] - pady1)\n",
    "        y2 = min(image.shape[0], rect[3] + pady2)\n",
    "        x1 = max(0, rect[0] - padx1)\n",
    "        x2 = min(image.shape[1], rect[2] + padx2)\n",
    "\n",
    "        results.append([x1, y1, x2, y2])\n",
    "\n",
    "    boxes = np.array(results)\n",
    "    if not nosmooth: boxes = get_smoothened_boxes(boxes, T=5)\n",
    "    results = [[image[y1: y2, x1:x2], (y1, y2, x1, x2)] for image, (x1, y1, x2, y2) in zip(images, boxes)]\n",
    "\n",
    "    del detector\n",
    "    return results \n",
    "\n",
    "box=[-1,-1,-1,-1]\n",
    "\n",
    "def datagen(frames, mels):\n",
    "    img_batch, mel_batch, frame_batch, coords_batch = [], [], [], []\n",
    "\n",
    "    if box[0] == -1:# 如果未指定 特定的人脸边界的话\n",
    "        if not static:# 是否使用视频的第一帧作为参考\n",
    "            face_det_results = face_detect(frames) # BGR2RGB for CNN face detection\n",
    "        else:\n",
    "            face_det_results = face_detect([frames[0]])\n",
    "    else:\n",
    "        print('Using the specified bounding box instead of face detection...')\n",
    "        y1, y2, x1, x2 = box\n",
    "        face_det_results = [[f[y1: y2, x1:x2], (y1, y2, x1, x2)] for f in frames] # 裁剪出人脸结果\n",
    "\n",
    "    for i, m in enumerate(mels):\n",
    "        idx = 0 if static else i%len(frames)\n",
    "        frame_to_save = frames[idx].copy()\n",
    "        face, coords = face_det_results[idx].copy()\n",
    "\n",
    "        face = cv2.resize(face, (img_size, img_size)) # 重采样到指定大小\n",
    "\n",
    "        img_batch.append(face)\n",
    "        mel_batch.append(m)\n",
    "        frame_batch.append(frame_to_save)\n",
    "        coords_batch.append(coords)\n",
    "\n",
    "        if len(img_batch) >= wav2lip_batch_size:\n",
    "            img_batch, mel_batch = np.asarray(img_batch), np.asarray(mel_batch)\n",
    "\n",
    "            img_masked = img_batch.copy()\n",
    "            img_masked[:, img_size//2:] = 0\n",
    "\n",
    "            img_batch = np.concatenate((img_masked, img_batch), axis=3) / 255.\n",
    "            mel_batch = np.reshape(mel_batch, [len(mel_batch), mel_batch.shape[1], mel_batch.shape[2], 1])\n",
    "\n",
    "            yield img_batch, mel_batch, frame_batch, coords_batch\n",
    "            img_batch, mel_batch, frame_batch, coords_batch = [], [], [], []\n",
    "\n",
    "    if len(img_batch) > 0:\n",
    "        img_batch, mel_batch = np.asarray(img_batch), np.asarray(mel_batch)\n",
    "\n",
    "        img_masked = img_batch.copy()\n",
    "        img_masked[:, img_size//2:] = 0\n",
    "\n",
    "        img_batch = np.concatenate((img_masked, img_batch), axis=3) / 255.\n",
    "        mel_batch = np.reshape(mel_batch, [len(mel_batch), mel_batch.shape[1], mel_batch.shape[2], 1])\n",
    "\n",
    "        yield img_batch, mel_batch, frame_batch, coords_batch\n",
    "\n",
    "mel_step_size = 16 \n",
    "device = 'cuda' if torch.cuda.is_available() else 'cpu'\n",
    "print('Using {} for inference.'.format(device))\n",
    "\n",
    "\n",
    "def _load(checkpoint_path):\n",
    "    if device == 'cuda':\n",
    "        checkpoint = torch.load(checkpoint_path)\n",
    "    else:\n",
    "        checkpoint = torch.load(checkpoint_path,\n",
    "                                map_location=lambda storage, loc: storage)\n",
    "    return checkpoint\n",
    "\n",
    "def load_model(path):\n",
    "    model = Wav2Lip()\n",
    "    print(\"Load checkpoint from: {}\".format(path))\n",
    "    checkpoint = _load(path)\n",
    "    s = checkpoint[\"state_dict\"]\n",
    "    new_s = {}\n",
    "    for k, v in s.items():\n",
    "        new_s[k.replace('module.', '')] = v\n",
    "    model.load_state_dict(new_s)\n",
    "\n",
    "    model = model.to(device)\n",
    "    return model.eval()"
   ]
  },
  {
   "cell_type": "code",
   "execution_count": 29,
   "id": "752cf082",
   "metadata": {
    "execution": {
     "iopub.execute_input": "2023-11-02T17:27:48.239326Z",
     "iopub.status.busy": "2023-11-02T17:27:48.238725Z",
     "iopub.status.idle": "2023-11-02T17:27:48.241676Z",
     "shell.execute_reply": "2023-11-02T17:27:48.241149Z"
    },
    "papermill": {
     "duration": 22.32066,
     "end_time": "2023-11-02T17:27:48.241805",
     "exception": false,
     "start_time": "2023-11-02T17:27:25.921145",
     "status": "completed"
    },
    "tags": []
   },
   "outputs": [],
   "source": [
    "os.mkdir('/kaggle/working/temp/')"
   ]
  },
  {
   "cell_type": "code",
   "execution_count": 30,
   "id": "3690d6d9",
   "metadata": {
    "execution": {
     "iopub.execute_input": "2023-11-02T17:28:32.544447Z",
     "iopub.status.busy": "2023-11-02T17:28:32.543798Z",
     "iopub.status.idle": "2023-11-02T17:28:39.470533Z",
     "shell.execute_reply": "2023-11-02T17:28:39.470050Z",
     "shell.execute_reply.started": "2021-07-24T14:00:13.510341Z"
    },
    "papermill": {
     "duration": 29.148233,
     "end_time": "2023-11-02T17:28:39.470686",
     "exception": false,
     "start_time": "2023-11-02T17:28:10.322453",
     "status": "completed"
    },
    "tags": []
   },
   "outputs": [
    {
     "name": "stderr",
     "output_type": "stream",
     "text": [
      "  0%|          | 0/2 [00:00<?, ?it/s]\n",
      "  0%|          | 0/10 [00:00<?, ?it/s]\u001b[A\n",
      " 10%|█         | 1/10 [00:00<00:07,  1.13it/s]\u001b[A\n",
      " 20%|██        | 2/10 [00:01<00:04,  1.93it/s]\u001b[A\n",
      " 30%|███       | 3/10 [00:01<00:02,  2.50it/s]\u001b[A\n",
      " 40%|████      | 4/10 [00:01<00:02,  2.91it/s]\u001b[A\n",
      " 50%|█████     | 5/10 [00:01<00:01,  3.21it/s]\u001b[A\n",
      " 60%|██████    | 6/10 [00:02<00:01,  3.41it/s]\u001b[A\n",
      " 70%|███████   | 7/10 [00:02<00:00,  3.54it/s]\u001b[A\n",
      " 80%|████████  | 8/10 [00:02<00:00,  3.67it/s]\u001b[A\n",
      " 90%|█████████ | 9/10 [00:02<00:00,  3.76it/s]\u001b[A\n",
      "100%|██████████| 10/10 [00:03<00:00,  3.02it/s]\n"
     ]
    },
    {
     "name": "stdout",
     "output_type": "stream",
     "text": [
      "Load checkpoint from: /kaggle/working/wav2lip_checkpoints/checkpoint_step000012000.pth\n",
      "Model loaded\n"
     ]
    },
    {
     "name": "stderr",
     "output_type": "stream",
     "text": [
      "100%|██████████| 2/2 [00:06<00:00,  3.46s/it]\n"
     ]
    }
   ],
   "source": [
    "full_frames = full_frames[:len(mel_chunks)]\n",
    "\n",
    "batch_size = wav2lip_batch_size\n",
    "gen = datagen(full_frames.copy(), mel_chunks)  \n",
    "\n",
    "for i, (img_batch, mel_batch, frames, coords) in enumerate(tqdm(gen, \n",
    "                                        total=int(np.ceil(float(len(mel_chunks))/batch_size)))):\n",
    "    \n",
    "    if i == 0:\n",
    "        model = load_model(checkpoint_path)\n",
    "        print (\"Model loaded\")\n",
    "\n",
    "        frame_h, frame_w = full_frames[0].shape[:-1]\n",
    "        \n",
    "        out = cv2.VideoWriter('/kaggle/working/temp/result_without_audio.mp4',\n",
    "                                cv2.VideoWriter_fourcc(*'DIVX'), fps, (frame_w, frame_h))\n",
    "\n",
    "    img_batch = torch.FloatTensor(np.transpose(img_batch, (0, 3, 1, 2))).to(device)\n",
    "    mel_batch = torch.FloatTensor(np.transpose(mel_batch, (0, 3, 1, 2))).to(device)\n",
    "    \n",
    "    \n",
    "    # img_batch,\n",
    "    ##############TODO\n",
    "    with torch.no_grad():\n",
    "        pred = model(mel_batch, img_batch)\n",
    "    \n",
    "    pred = pred.cpu().numpy().transpose(0, 2, 3, 1) * 255.\n",
    "\n",
    "    for p, f, c in zip(pred, frames, coords):\n",
    "        y1, y2, x1, x2 = c\n",
    "        p = cv2.resize(p.astype(np.uint8), (x2 - x1, y2 - y1))\n",
    "\n",
    "        f[y1:y2, x1:x2] = p\n",
    "        out.write(f)\n",
    "\n",
    "out.release()\n"
   ]
  },
  {
   "cell_type": "code",
   "execution_count": 31,
   "id": "e87b4e9e",
   "metadata": {
    "execution": {
     "iopub.execute_input": "2023-11-02T17:29:24.260812Z",
     "iopub.status.busy": "2023-11-02T17:29:24.259853Z",
     "iopub.status.idle": "2023-11-02T17:29:24.262723Z",
     "shell.execute_reply": "2023-11-02T17:29:24.262118Z"
    },
    "papermill": {
     "duration": 22.448849,
     "end_time": "2023-11-02T17:29:24.262850",
     "exception": false,
     "start_time": "2023-11-02T17:29:01.814001",
     "status": "completed"
    },
    "tags": []
   },
   "outputs": [],
   "source": [
    "os.mkdir('/kaggle/working/result/')"
   ]
  },
  {
   "cell_type": "code",
   "execution_count": 32,
   "id": "80d4b122",
   "metadata": {
    "execution": {
     "iopub.execute_input": "2023-11-02T17:30:08.684434Z",
     "iopub.status.busy": "2023-11-02T17:30:08.683793Z",
     "iopub.status.idle": "2023-11-02T17:30:08.869671Z",
     "shell.execute_reply": "2023-11-02T17:30:08.869034Z",
     "shell.execute_reply.started": "2021-07-24T14:01:22.990563Z"
    },
    "papermill": {
     "duration": 22.326699,
     "end_time": "2023-11-02T17:30:08.869811",
     "exception": false,
     "start_time": "2023-11-02T17:29:46.543112",
     "status": "completed"
    },
    "tags": []
   },
   "outputs": [
    {
     "data": {
      "text/plain": [
       "1"
      ]
     },
     "execution_count": 32,
     "metadata": {},
     "output_type": "execute_result"
    }
   ],
   "source": [
    "outfile=\"/kaggle/working/result/result.mp4\"\n",
    "command = 'ffmpeg -y -i {} -i {} -strict -2 -q:v 1 {}'.format(speech, '/kaggle/working/temp/result_without_audio.mp4',outfile)\n",
    "subprocess.call(command, shell=platform.system() != 'Windows')"
   ]
  }
 ],
 "metadata": {
  "kernelspec": {
   "display_name": "Python 3",
   "language": "python",
   "name": "python3"
  },
  "language_info": {
   "codemirror_mode": {
    "name": "ipython",
    "version": 3
   },
   "file_extension": ".py",
   "mimetype": "text/x-python",
   "name": "python",
   "nbconvert_exporter": "python",
   "pygments_lexer": "ipython3",
   "version": "3.7.10"
  },
  "papermill": {
   "default_parameters": {},
   "duration": 27107.567313,
   "end_time": "2023-11-02T17:30:33.848811",
   "environment_variables": {},
   "exception": null,
   "input_path": "__notebook__.ipynb",
   "output_path": "__notebook__.ipynb",
   "parameters": {},
   "start_time": "2023-11-02T09:58:46.281498",
   "version": "2.3.3"
  }
 },
 "nbformat": 4,
 "nbformat_minor": 5
}
